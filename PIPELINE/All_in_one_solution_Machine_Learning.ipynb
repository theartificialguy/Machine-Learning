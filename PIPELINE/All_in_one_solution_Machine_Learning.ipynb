{
  "nbformat": 4,
  "nbformat_minor": 0,
  "metadata": {
    "colab": {
      "name": "All in one solution - Machine Learning.ipynb",
      "provenance": [],
      "collapsed_sections": [
        "yk-I8mja7Dwc",
        "hYz8qbQEXU98",
        "KGY2aogtiQbZ",
        "iMfW7kXDosLa",
        "C_wySZDZriMS",
        "iHOdtHIbznzH"
      ]
    },
    "kernelspec": {
      "name": "python3",
      "display_name": "Python 3"
    },
    "language_info": {
      "name": "python"
    }
  },
  "cells": [
    {
      "cell_type": "markdown",
      "metadata": {
        "id": "3RFGOJmvxEYm"
      },
      "source": [
        "**LIFE CYCLE OF A DATA SCIENCE PROJECT**\n",
        "\n",
        "\n",
        "1.   Data Collection - should be collected from multiple resources like from company side, 3rd party APIs, Surveys.\n",
        "2.   Feature Engineering :\n",
        "    \n",
        "    => Handling missing values\n",
        "        \n",
        "        1) Continous data, ex = height 172.5\n",
        "\n",
        "        2) Discrete data, ex = number of children = 4\n",
        "\n",
        "        3) Categorical data\n",
        "    \n",
        "    => Encoding Categorical features\n",
        "\n",
        "3.  Feature Scaling :\n",
        "\n",
        "    => Standardization of data. (0 mean, 1 SD)\n",
        "\n",
        "    => Normalization of data. (0 to 1)\n",
        "\n",
        "4. Feature Selection.\n",
        "\n",
        "5. Hyper Parameter Tuning.\n",
        "\n",
        "6. Cross Validation.\n",
        "\n",
        "7. Model Selection.\n",
        "\n",
        "8. Deployement\n"
      ]
    },
    {
      "cell_type": "code",
      "metadata": {
        "id": "lV5PxzuGE1Mi"
      },
      "source": [
        "import numpy as np\n",
        "import pandas as pd\n",
        "import seaborn as sns\n",
        "\n",
        "import pickle\n",
        "import xgboost\n",
        "\n",
        "import matplotlib.pyplot as plt\n",
        "%matplotlib inline\n",
        "\n",
        "from sklearn.metrics import accuracy_score\n",
        "from sklearn.model_selection import train_test_split, cross_val_score, RandomizedSearchCV\n",
        "from sklearn.ensemble import RandomForestClassifier, ExtraTreesClassifier\n",
        "from sklearn.feature_selection import SelectKBest, chi2, mutual_info_classif"
      ],
      "execution_count": 1,
      "outputs": []
    },
    {
      "cell_type": "code",
      "metadata": {
        "colab": {
          "base_uri": "https://localhost:8080/",
          "height": 206
        },
        "id": "dY48GrzgE4CQ",
        "outputId": "579c3fa4-6411-449a-e279-b99e798af901"
      },
      "source": [
        "df = pd.read_csv('/content/heart.csv')\n",
        "\n",
        "df.head()"
      ],
      "execution_count": 2,
      "outputs": [
        {
          "output_type": "execute_result",
          "data": {
            "text/html": [
              "<div>\n",
              "<style scoped>\n",
              "    .dataframe tbody tr th:only-of-type {\n",
              "        vertical-align: middle;\n",
              "    }\n",
              "\n",
              "    .dataframe tbody tr th {\n",
              "        vertical-align: top;\n",
              "    }\n",
              "\n",
              "    .dataframe thead th {\n",
              "        text-align: right;\n",
              "    }\n",
              "</style>\n",
              "<table border=\"1\" class=\"dataframe\">\n",
              "  <thead>\n",
              "    <tr style=\"text-align: right;\">\n",
              "      <th></th>\n",
              "      <th>age</th>\n",
              "      <th>sex</th>\n",
              "      <th>cp</th>\n",
              "      <th>trestbps</th>\n",
              "      <th>chol</th>\n",
              "      <th>fbs</th>\n",
              "      <th>restecg</th>\n",
              "      <th>thalach</th>\n",
              "      <th>exang</th>\n",
              "      <th>oldpeak</th>\n",
              "      <th>slope</th>\n",
              "      <th>ca</th>\n",
              "      <th>thal</th>\n",
              "      <th>target</th>\n",
              "    </tr>\n",
              "  </thead>\n",
              "  <tbody>\n",
              "    <tr>\n",
              "      <th>0</th>\n",
              "      <td>63</td>\n",
              "      <td>1</td>\n",
              "      <td>3</td>\n",
              "      <td>145</td>\n",
              "      <td>233</td>\n",
              "      <td>1</td>\n",
              "      <td>0</td>\n",
              "      <td>150</td>\n",
              "      <td>0</td>\n",
              "      <td>2.3</td>\n",
              "      <td>0</td>\n",
              "      <td>0</td>\n",
              "      <td>1</td>\n",
              "      <td>1</td>\n",
              "    </tr>\n",
              "    <tr>\n",
              "      <th>1</th>\n",
              "      <td>37</td>\n",
              "      <td>1</td>\n",
              "      <td>2</td>\n",
              "      <td>130</td>\n",
              "      <td>250</td>\n",
              "      <td>0</td>\n",
              "      <td>1</td>\n",
              "      <td>187</td>\n",
              "      <td>0</td>\n",
              "      <td>3.5</td>\n",
              "      <td>0</td>\n",
              "      <td>0</td>\n",
              "      <td>2</td>\n",
              "      <td>1</td>\n",
              "    </tr>\n",
              "    <tr>\n",
              "      <th>2</th>\n",
              "      <td>41</td>\n",
              "      <td>0</td>\n",
              "      <td>1</td>\n",
              "      <td>130</td>\n",
              "      <td>204</td>\n",
              "      <td>0</td>\n",
              "      <td>0</td>\n",
              "      <td>172</td>\n",
              "      <td>0</td>\n",
              "      <td>1.4</td>\n",
              "      <td>2</td>\n",
              "      <td>0</td>\n",
              "      <td>2</td>\n",
              "      <td>1</td>\n",
              "    </tr>\n",
              "    <tr>\n",
              "      <th>3</th>\n",
              "      <td>56</td>\n",
              "      <td>1</td>\n",
              "      <td>1</td>\n",
              "      <td>120</td>\n",
              "      <td>236</td>\n",
              "      <td>0</td>\n",
              "      <td>1</td>\n",
              "      <td>178</td>\n",
              "      <td>0</td>\n",
              "      <td>0.8</td>\n",
              "      <td>2</td>\n",
              "      <td>0</td>\n",
              "      <td>2</td>\n",
              "      <td>1</td>\n",
              "    </tr>\n",
              "    <tr>\n",
              "      <th>4</th>\n",
              "      <td>57</td>\n",
              "      <td>0</td>\n",
              "      <td>0</td>\n",
              "      <td>120</td>\n",
              "      <td>354</td>\n",
              "      <td>0</td>\n",
              "      <td>1</td>\n",
              "      <td>163</td>\n",
              "      <td>1</td>\n",
              "      <td>0.6</td>\n",
              "      <td>2</td>\n",
              "      <td>0</td>\n",
              "      <td>2</td>\n",
              "      <td>1</td>\n",
              "    </tr>\n",
              "  </tbody>\n",
              "</table>\n",
              "</div>"
            ],
            "text/plain": [
              "   age  sex  cp  trestbps  chol  fbs  ...  exang  oldpeak  slope  ca  thal  target\n",
              "0   63    1   3       145   233    1  ...      0      2.3      0   0     1       1\n",
              "1   37    1   2       130   250    0  ...      0      3.5      0   0     2       1\n",
              "2   41    0   1       130   204    0  ...      0      1.4      2   0     2       1\n",
              "3   56    1   1       120   236    0  ...      0      0.8      2   0     2       1\n",
              "4   57    0   0       120   354    0  ...      1      0.6      2   0     2       1\n",
              "\n",
              "[5 rows x 14 columns]"
            ]
          },
          "metadata": {
            "tags": []
          },
          "execution_count": 2
        }
      ]
    },
    {
      "cell_type": "code",
      "metadata": {
        "colab": {
          "base_uri": "https://localhost:8080/"
        },
        "id": "YexKsiASGM_E",
        "outputId": "bf51a08e-d797-428e-a46f-77463e330468"
      },
      "source": [
        "df.shape"
      ],
      "execution_count": null,
      "outputs": [
        {
          "output_type": "execute_result",
          "data": {
            "text/plain": [
              "(303, 14)"
            ]
          },
          "metadata": {
            "tags": []
          },
          "execution_count": 10
        }
      ]
    },
    {
      "cell_type": "markdown",
      "metadata": {
        "id": "Y2XojPSbGTaZ"
      },
      "source": [
        "**FEATURE ENGINEERING**"
      ]
    },
    {
      "cell_type": "code",
      "metadata": {
        "colab": {
          "base_uri": "https://localhost:8080/"
        },
        "id": "rXi7L7xNE39m",
        "outputId": "c2da2ecb-6c96-4c05-95fb-c85dc6267ec0"
      },
      "source": [
        "df['target'].value_counts()"
      ],
      "execution_count": null,
      "outputs": [
        {
          "output_type": "execute_result",
          "data": {
            "text/plain": [
              "1    165\n",
              "0    138\n",
              "Name: target, dtype: int64"
            ]
          },
          "metadata": {
            "tags": []
          },
          "execution_count": 5
        }
      ]
    },
    {
      "cell_type": "code",
      "metadata": {
        "colab": {
          "base_uri": "https://localhost:8080/"
        },
        "id": "lHe4gPxTE367",
        "outputId": "f13cc369-6f54-4498-a8d5-af2e2abca727"
      },
      "source": [
        "df.info()"
      ],
      "execution_count": null,
      "outputs": [
        {
          "output_type": "stream",
          "text": [
            "<class 'pandas.core.frame.DataFrame'>\n",
            "RangeIndex: 303 entries, 0 to 302\n",
            "Data columns (total 14 columns):\n",
            " #   Column    Non-Null Count  Dtype  \n",
            "---  ------    --------------  -----  \n",
            " 0   age       303 non-null    int64  \n",
            " 1   sex       303 non-null    int64  \n",
            " 2   cp        303 non-null    int64  \n",
            " 3   trestbps  303 non-null    int64  \n",
            " 4   chol      303 non-null    int64  \n",
            " 5   fbs       303 non-null    int64  \n",
            " 6   restecg   303 non-null    int64  \n",
            " 7   thalach   303 non-null    int64  \n",
            " 8   exang     303 non-null    int64  \n",
            " 9   oldpeak   303 non-null    float64\n",
            " 10  slope     303 non-null    int64  \n",
            " 11  ca        303 non-null    int64  \n",
            " 12  thal      303 non-null    int64  \n",
            " 13  target    303 non-null    int64  \n",
            "dtypes: float64(1), int64(13)\n",
            "memory usage: 33.3 KB\n"
          ],
          "name": "stdout"
        }
      ]
    },
    {
      "cell_type": "code",
      "metadata": {
        "colab": {
          "base_uri": "https://localhost:8080/"
        },
        "id": "iqcPqNEeE34Z",
        "outputId": "354a3ee1-449d-4539-ca68-d8abdf2ad0e8"
      },
      "source": [
        "df.isnull().sum()"
      ],
      "execution_count": null,
      "outputs": [
        {
          "output_type": "execute_result",
          "data": {
            "text/plain": [
              "age         0\n",
              "sex         0\n",
              "cp          0\n",
              "trestbps    0\n",
              "chol        0\n",
              "fbs         0\n",
              "restecg     0\n",
              "thalach     0\n",
              "exang       0\n",
              "oldpeak     0\n",
              "slope       0\n",
              "ca          0\n",
              "thal        0\n",
              "target      0\n",
              "dtype: int64"
            ]
          },
          "metadata": {
            "tags": []
          },
          "execution_count": 12
        }
      ]
    },
    {
      "cell_type": "code",
      "metadata": {
        "colab": {
          "base_uri": "https://localhost:8080/"
        },
        "id": "kDD7fShkFtO7",
        "outputId": "f0077b2b-1801-42af-b9ee-0159425fa187"
      },
      "source": [
        "train_df = df.iloc[:, :-1]\n",
        "y = df['target'].ravel()\n",
        "\n",
        "train_df.shape, y.shape"
      ],
      "execution_count": 3,
      "outputs": [
        {
          "output_type": "execute_result",
          "data": {
            "text/plain": [
              "((303, 13), (303,))"
            ]
          },
          "metadata": {
            "tags": []
          },
          "execution_count": 3
        }
      ]
    },
    {
      "cell_type": "markdown",
      "metadata": {
        "id": "yk-I8mja7Dwc"
      },
      "source": [
        "### Different Types of Missing data :-\n",
        "\n",
        "1) Missing Completely at Random (MCAR): No relationship between the missing data and any other values within the dataset.\n",
        "\n",
        "2) Missing Not at Random (MNAR) : the opposite, i.e. systematic missing values.\n",
        "\n",
        "3) Missing at Random (MAR)\n",
        "\n",
        "### All techniques to handle Missing data :-\n",
        "\n",
        "1) Mean/Median/Mode replacement :-\n",
        "\n",
        "2) Random Sample Imputation\n",
        "\n",
        "3) Capturing NaN values with a new feature\n",
        "\n",
        "4) End of distribution Imputation\n",
        "\n",
        "5) Arbitrirary Imputation\n",
        "\n",
        "6) Frequent Categories Imputation\n",
        "\n",
        "### We will be working on Titanic Dataset as it has many missing values."
      ]
    },
    {
      "cell_type": "code",
      "metadata": {
        "colab": {
          "base_uri": "https://localhost:8080/",
          "height": 258
        },
        "id": "CCzIZ1h37JhT",
        "outputId": "c12efae7-465b-4902-e758-e26c67953535"
      },
      "source": [
        "titanic_df = pd.read_csv('/content/train.csv')\n",
        "\n",
        "print(titanic_df.shape)\n",
        "\n",
        "titanic_df.head()"
      ],
      "execution_count": 3,
      "outputs": [
        {
          "output_type": "stream",
          "text": [
            "(891, 12)\n"
          ],
          "name": "stdout"
        },
        {
          "output_type": "execute_result",
          "data": {
            "text/html": [
              "<div>\n",
              "<style scoped>\n",
              "    .dataframe tbody tr th:only-of-type {\n",
              "        vertical-align: middle;\n",
              "    }\n",
              "\n",
              "    .dataframe tbody tr th {\n",
              "        vertical-align: top;\n",
              "    }\n",
              "\n",
              "    .dataframe thead th {\n",
              "        text-align: right;\n",
              "    }\n",
              "</style>\n",
              "<table border=\"1\" class=\"dataframe\">\n",
              "  <thead>\n",
              "    <tr style=\"text-align: right;\">\n",
              "      <th></th>\n",
              "      <th>PassengerId</th>\n",
              "      <th>Survived</th>\n",
              "      <th>Pclass</th>\n",
              "      <th>Name</th>\n",
              "      <th>Sex</th>\n",
              "      <th>Age</th>\n",
              "      <th>SibSp</th>\n",
              "      <th>Parch</th>\n",
              "      <th>Ticket</th>\n",
              "      <th>Fare</th>\n",
              "      <th>Cabin</th>\n",
              "      <th>Embarked</th>\n",
              "    </tr>\n",
              "  </thead>\n",
              "  <tbody>\n",
              "    <tr>\n",
              "      <th>0</th>\n",
              "      <td>1</td>\n",
              "      <td>0</td>\n",
              "      <td>3</td>\n",
              "      <td>Braund, Mr. Owen Harris</td>\n",
              "      <td>male</td>\n",
              "      <td>22.0</td>\n",
              "      <td>1</td>\n",
              "      <td>0</td>\n",
              "      <td>A/5 21171</td>\n",
              "      <td>7.2500</td>\n",
              "      <td>NaN</td>\n",
              "      <td>S</td>\n",
              "    </tr>\n",
              "    <tr>\n",
              "      <th>1</th>\n",
              "      <td>2</td>\n",
              "      <td>1</td>\n",
              "      <td>1</td>\n",
              "      <td>Cumings, Mrs. John Bradley (Florence Briggs Th...</td>\n",
              "      <td>female</td>\n",
              "      <td>38.0</td>\n",
              "      <td>1</td>\n",
              "      <td>0</td>\n",
              "      <td>PC 17599</td>\n",
              "      <td>71.2833</td>\n",
              "      <td>C85</td>\n",
              "      <td>C</td>\n",
              "    </tr>\n",
              "    <tr>\n",
              "      <th>2</th>\n",
              "      <td>3</td>\n",
              "      <td>1</td>\n",
              "      <td>3</td>\n",
              "      <td>Heikkinen, Miss. Laina</td>\n",
              "      <td>female</td>\n",
              "      <td>26.0</td>\n",
              "      <td>0</td>\n",
              "      <td>0</td>\n",
              "      <td>STON/O2. 3101282</td>\n",
              "      <td>7.9250</td>\n",
              "      <td>NaN</td>\n",
              "      <td>S</td>\n",
              "    </tr>\n",
              "    <tr>\n",
              "      <th>3</th>\n",
              "      <td>4</td>\n",
              "      <td>1</td>\n",
              "      <td>1</td>\n",
              "      <td>Futrelle, Mrs. Jacques Heath (Lily May Peel)</td>\n",
              "      <td>female</td>\n",
              "      <td>35.0</td>\n",
              "      <td>1</td>\n",
              "      <td>0</td>\n",
              "      <td>113803</td>\n",
              "      <td>53.1000</td>\n",
              "      <td>C123</td>\n",
              "      <td>S</td>\n",
              "    </tr>\n",
              "    <tr>\n",
              "      <th>4</th>\n",
              "      <td>5</td>\n",
              "      <td>0</td>\n",
              "      <td>3</td>\n",
              "      <td>Allen, Mr. William Henry</td>\n",
              "      <td>male</td>\n",
              "      <td>35.0</td>\n",
              "      <td>0</td>\n",
              "      <td>0</td>\n",
              "      <td>373450</td>\n",
              "      <td>8.0500</td>\n",
              "      <td>NaN</td>\n",
              "      <td>S</td>\n",
              "    </tr>\n",
              "  </tbody>\n",
              "</table>\n",
              "</div>"
            ],
            "text/plain": [
              "   PassengerId  Survived  Pclass  ...     Fare Cabin  Embarked\n",
              "0            1         0       3  ...   7.2500   NaN         S\n",
              "1            2         1       1  ...  71.2833   C85         C\n",
              "2            3         1       3  ...   7.9250   NaN         S\n",
              "3            4         1       1  ...  53.1000  C123         S\n",
              "4            5         0       3  ...   8.0500   NaN         S\n",
              "\n",
              "[5 rows x 12 columns]"
            ]
          },
          "metadata": {
            "tags": []
          },
          "execution_count": 3
        }
      ]
    },
    {
      "cell_type": "code",
      "metadata": {
        "colab": {
          "base_uri": "https://localhost:8080/"
        },
        "id": "zbY_r9w87Jbo",
        "outputId": "83ea1c47-5606-474d-c6f8-84df75647007"
      },
      "source": [
        "titanic_df.isnull().sum()\n",
        "\n",
        "# Here, Age and Cabin has something in common, so it's MNAR, but Embarked has no relationship, so it's MCAR."
      ],
      "execution_count": 27,
      "outputs": [
        {
          "output_type": "execute_result",
          "data": {
            "text/plain": [
              "PassengerId      0\n",
              "Survived         0\n",
              "Pclass           0\n",
              "Name             0\n",
              "Sex              0\n",
              "Age            177\n",
              "SibSp            0\n",
              "Parch            0\n",
              "Ticket           0\n",
              "Fare             0\n",
              "Cabin          687\n",
              "Embarked         2\n",
              "dtype: int64"
            ]
          },
          "metadata": {
            "tags": []
          },
          "execution_count": 27
        }
      ]
    },
    {
      "cell_type": "code",
      "metadata": {
        "colab": {
          "base_uri": "https://localhost:8080/",
          "height": 112
        },
        "id": "y4-0zneD7JXK",
        "outputId": "f68818d5-41e4-4ddb-c086-70b662ab5f56"
      },
      "source": [
        "titanic_df[titanic_df['Embarked'].isnull()]"
      ],
      "execution_count": 3,
      "outputs": [
        {
          "output_type": "execute_result",
          "data": {
            "text/html": [
              "<div>\n",
              "<style scoped>\n",
              "    .dataframe tbody tr th:only-of-type {\n",
              "        vertical-align: middle;\n",
              "    }\n",
              "\n",
              "    .dataframe tbody tr th {\n",
              "        vertical-align: top;\n",
              "    }\n",
              "\n",
              "    .dataframe thead th {\n",
              "        text-align: right;\n",
              "    }\n",
              "</style>\n",
              "<table border=\"1\" class=\"dataframe\">\n",
              "  <thead>\n",
              "    <tr style=\"text-align: right;\">\n",
              "      <th></th>\n",
              "      <th>PassengerId</th>\n",
              "      <th>Survived</th>\n",
              "      <th>Pclass</th>\n",
              "      <th>Name</th>\n",
              "      <th>Sex</th>\n",
              "      <th>Age</th>\n",
              "      <th>SibSp</th>\n",
              "      <th>Parch</th>\n",
              "      <th>Ticket</th>\n",
              "      <th>Fare</th>\n",
              "      <th>Cabin</th>\n",
              "      <th>Embarked</th>\n",
              "    </tr>\n",
              "  </thead>\n",
              "  <tbody>\n",
              "    <tr>\n",
              "      <th>61</th>\n",
              "      <td>62</td>\n",
              "      <td>1</td>\n",
              "      <td>1</td>\n",
              "      <td>Icard, Miss. Amelie</td>\n",
              "      <td>female</td>\n",
              "      <td>38.0</td>\n",
              "      <td>0</td>\n",
              "      <td>0</td>\n",
              "      <td>113572</td>\n",
              "      <td>80.0</td>\n",
              "      <td>B28</td>\n",
              "      <td>NaN</td>\n",
              "    </tr>\n",
              "    <tr>\n",
              "      <th>829</th>\n",
              "      <td>830</td>\n",
              "      <td>1</td>\n",
              "      <td>1</td>\n",
              "      <td>Stone, Mrs. George Nelson (Martha Evelyn)</td>\n",
              "      <td>female</td>\n",
              "      <td>62.0</td>\n",
              "      <td>0</td>\n",
              "      <td>0</td>\n",
              "      <td>113572</td>\n",
              "      <td>80.0</td>\n",
              "      <td>B28</td>\n",
              "      <td>NaN</td>\n",
              "    </tr>\n",
              "  </tbody>\n",
              "</table>\n",
              "</div>"
            ],
            "text/plain": [
              "     PassengerId  Survived  Pclass  ...  Fare Cabin  Embarked\n",
              "61            62         1       1  ...  80.0   B28       NaN\n",
              "829          830         1       1  ...  80.0   B28       NaN\n",
              "\n",
              "[2 rows x 12 columns]"
            ]
          },
          "metadata": {
            "tags": []
          },
          "execution_count": 3
        }
      ]
    },
    {
      "cell_type": "code",
      "metadata": {
        "colab": {
          "base_uri": "https://localhost:8080/"
        },
        "id": "JhAxve1v7JS6",
        "outputId": "f597e848-ee29-4323-b58f-512b9a1a8f53"
      },
      "source": [
        "titanic_df['cabin_null'] = np.where(titanic_df['Cabin'].isnull(), 1, 0)\n",
        "\n",
        "titanic_df['cabin_null'].mean() # percentage of null values"
      ],
      "execution_count": 4,
      "outputs": [
        {
          "output_type": "execute_result",
          "data": {
            "text/plain": [
              "0.7710437710437711"
            ]
          },
          "metadata": {
            "tags": []
          },
          "execution_count": 4
        }
      ]
    },
    {
      "cell_type": "code",
      "metadata": {
        "colab": {
          "base_uri": "https://localhost:8080/"
        },
        "id": "JBZiym-X7JLW",
        "outputId": "54ae850e-435c-496d-e576-02d624606ba5"
      },
      "source": [
        "titanic_df.groupby(['Survived'])['cabin_null'].mean()\n",
        "\n",
        "# This means that 60% of the people survived whose cabin was not NaN and 87% of the people not survived\n",
        "# whose cabin was NaN."
      ],
      "execution_count": 36,
      "outputs": [
        {
          "output_type": "execute_result",
          "data": {
            "text/plain": [
              "Survived\n",
              "0    0.876138\n",
              "1    0.602339\n",
              "Name: cabin_null, dtype: float64"
            ]
          },
          "metadata": {
            "tags": []
          },
          "execution_count": 36
        }
      ]
    },
    {
      "cell_type": "markdown",
      "metadata": {
        "id": "1xOdJ9LdYSZ5"
      },
      "source": [
        "1) Mean/Median/Mode Replacement\n",
        "\n",
        "    When data is missing at completely random (MCAR) - replace   NaN with the most frequent occurance of the variables.\n",
        "\n",
        "    Advantages :=\n",
        "    1) Easy to implement\n",
        "    2) Robust to outliers\n",
        "    3) Faster way to obtain complete dataset\n",
        "    Disadvantages :=\n",
        "    1) Change or distortion in original variance\n",
        "    2) Impacts correlation"
      ]
    },
    {
      "cell_type": "code",
      "metadata": {
        "colab": {
          "base_uri": "https://localhost:8080/"
        },
        "id": "OuuaVelrD4A5",
        "outputId": "192a53f4-ea0a-4643-f997-76913fb9a99f"
      },
      "source": [
        "print(titanic_df['Age'].isnull().mean())\n",
        "\n",
        "def median_imputation(df, var, median):\n",
        "    df[var+'_median'] = df[var].fillna(median)\n",
        "\n",
        "median = titanic_df['Age'].median()\n",
        "\n",
        "median_imputation(titanic_df, 'Age', median)\n",
        "\n",
        "titanic_df['Age_median'].isnull().mean()"
      ],
      "execution_count": 6,
      "outputs": [
        {
          "output_type": "stream",
          "text": [
            "0.19865319865319866\n"
          ],
          "name": "stdout"
        },
        {
          "output_type": "execute_result",
          "data": {
            "text/plain": [
              "0.0"
            ]
          },
          "metadata": {
            "tags": []
          },
          "execution_count": 6
        }
      ]
    },
    {
      "cell_type": "code",
      "metadata": {
        "colab": {
          "base_uri": "https://localhost:8080/",
          "height": 269
        },
        "id": "HdOAoWlQD37M",
        "outputId": "c5c2f71b-2786-43c7-eec1-dab43c391514"
      },
      "source": [
        "fig = plt.figure() \n",
        "ax = fig.add_subplot(111) \n",
        "titanic_df['Age'].plot(kind='kde', ax=ax) \n",
        "titanic_df['Age_median'].plot(kind='kde', ax=ax, color='red') \n",
        "lines, labels = ax.get_legend_handles_labels()"
      ],
      "execution_count": 42,
      "outputs": [
        {
          "output_type": "display_data",
          "data": {
            "image/png": "[encoded data removed]",
            "text/plain": [
              "<Figure size 432x288 with 1 Axes>"
            ]
          },
          "metadata": {
            "tags": [],
            "needs_background": "light"
          }
        }
      ]
    },
    {
      "cell_type": "markdown",
      "metadata": {
        "id": "d-TK0PXIH7Q0"
      },
      "source": [
        "2) Random Sample Imputation\n",
        "\n",
        "    It consists of taking random observations from the dataset and we use this observation to replace the NaN values\n",
        "\n",
        "    When it should be used?\n",
        "    It assumes that the data is missing completely at random i.e. MCAR again.\n",
        "\n",
        "    Advantages :=\n",
        "    1) Easy to implement\n",
        "    2) There is less distortion in variance\n",
        "    Disadvantes :=\n",
        "    1) Every situtation randomness won't work"
      ]
    },
    {
      "cell_type": "code",
      "metadata": {
        "colab": {
          "base_uri": "https://localhost:8080/",
          "height": 432
        },
        "id": "h0rHX0ChD3w3",
        "outputId": "5909f2d0-9b4c-4795-e27b-e0fc18080399"
      },
      "source": [
        "def random_sample_imputation(df, var):\n",
        "    df[var+'_random'] = df[var]\n",
        "    random_sample = df[var].dropna().sample(df[var].isnull().sum(), random_state=0)\n",
        "    random_sample.index = titanic_df[titanic_df[var].isnull()].index\n",
        "    df.loc[df[var].isnull(), var+'_random'] = random_sample\n",
        "\n",
        "random_sample_imputation(titanic_df, 'Age')\n",
        "\n",
        "titanic_df.head()"
      ],
      "execution_count": 7,
      "outputs": [
        {
          "output_type": "execute_result",
          "data": {
            "text/html": [
              "<div>\n",
              "<style scoped>\n",
              "    .dataframe tbody tr th:only-of-type {\n",
              "        vertical-align: middle;\n",
              "    }\n",
              "\n",
              "    .dataframe tbody tr th {\n",
              "        vertical-align: top;\n",
              "    }\n",
              "\n",
              "    .dataframe thead th {\n",
              "        text-align: right;\n",
              "    }\n",
              "</style>\n",
              "<table border=\"1\" class=\"dataframe\">\n",
              "  <thead>\n",
              "    <tr style=\"text-align: right;\">\n",
              "      <th></th>\n",
              "      <th>PassengerId</th>\n",
              "      <th>Survived</th>\n",
              "      <th>Pclass</th>\n",
              "      <th>Name</th>\n",
              "      <th>Sex</th>\n",
              "      <th>Age</th>\n",
              "      <th>SibSp</th>\n",
              "      <th>Parch</th>\n",
              "      <th>Ticket</th>\n",
              "      <th>Fare</th>\n",
              "      <th>Cabin</th>\n",
              "      <th>Embarked</th>\n",
              "      <th>cabin_null</th>\n",
              "      <th>Age_median</th>\n",
              "      <th>Age_random</th>\n",
              "    </tr>\n",
              "  </thead>\n",
              "  <tbody>\n",
              "    <tr>\n",
              "      <th>0</th>\n",
              "      <td>1</td>\n",
              "      <td>0</td>\n",
              "      <td>3</td>\n",
              "      <td>Braund, Mr. Owen Harris</td>\n",
              "      <td>male</td>\n",
              "      <td>22.0</td>\n",
              "      <td>1</td>\n",
              "      <td>0</td>\n",
              "      <td>A/5 21171</td>\n",
              "      <td>7.2500</td>\n",
              "      <td>NaN</td>\n",
              "      <td>S</td>\n",
              "      <td>1</td>\n",
              "      <td>22.0</td>\n",
              "      <td>22.0</td>\n",
              "    </tr>\n",
              "    <tr>\n",
              "      <th>1</th>\n",
              "      <td>2</td>\n",
              "      <td>1</td>\n",
              "      <td>1</td>\n",
              "      <td>Cumings, Mrs. John Bradley (Florence Briggs Th...</td>\n",
              "      <td>female</td>\n",
              "      <td>38.0</td>\n",
              "      <td>1</td>\n",
              "      <td>0</td>\n",
              "      <td>PC 17599</td>\n",
              "      <td>71.2833</td>\n",
              "      <td>C85</td>\n",
              "      <td>C</td>\n",
              "      <td>0</td>\n",
              "      <td>38.0</td>\n",
              "      <td>38.0</td>\n",
              "    </tr>\n",
              "    <tr>\n",
              "      <th>2</th>\n",
              "      <td>3</td>\n",
              "      <td>1</td>\n",
              "      <td>3</td>\n",
              "      <td>Heikkinen, Miss. Laina</td>\n",
              "      <td>female</td>\n",
              "      <td>26.0</td>\n",
              "      <td>0</td>\n",
              "      <td>0</td>\n",
              "      <td>STON/O2. 3101282</td>\n",
              "      <td>7.9250</td>\n",
              "      <td>NaN</td>\n",
              "      <td>S</td>\n",
              "      <td>1</td>\n",
              "      <td>26.0</td>\n",
              "      <td>26.0</td>\n",
              "    </tr>\n",
              "    <tr>\n",
              "      <th>3</th>\n",
              "      <td>4</td>\n",
              "      <td>1</td>\n",
              "      <td>1</td>\n",
              "      <td>Futrelle, Mrs. Jacques Heath (Lily May Peel)</td>\n",
              "      <td>female</td>\n",
              "      <td>35.0</td>\n",
              "      <td>1</td>\n",
              "      <td>0</td>\n",
              "      <td>113803</td>\n",
              "      <td>53.1000</td>\n",
              "      <td>C123</td>\n",
              "      <td>S</td>\n",
              "      <td>0</td>\n",
              "      <td>35.0</td>\n",
              "      <td>35.0</td>\n",
              "    </tr>\n",
              "    <tr>\n",
              "      <th>4</th>\n",
              "      <td>5</td>\n",
              "      <td>0</td>\n",
              "      <td>3</td>\n",
              "      <td>Allen, Mr. William Henry</td>\n",
              "      <td>male</td>\n",
              "      <td>35.0</td>\n",
              "      <td>0</td>\n",
              "      <td>0</td>\n",
              "      <td>373450</td>\n",
              "      <td>8.0500</td>\n",
              "      <td>NaN</td>\n",
              "      <td>S</td>\n",
              "      <td>1</td>\n",
              "      <td>35.0</td>\n",
              "      <td>35.0</td>\n",
              "    </tr>\n",
              "  </tbody>\n",
              "</table>\n",
              "</div>"
            ],
            "text/plain": [
              "   PassengerId  Survived  Pclass  ... cabin_null Age_median  Age_random\n",
              "0            1         0       3  ...          1       22.0        22.0\n",
              "1            2         1       1  ...          0       38.0        38.0\n",
              "2            3         1       3  ...          1       26.0        26.0\n",
              "3            4         1       1  ...          0       35.0        35.0\n",
              "4            5         0       3  ...          1       35.0        35.0\n",
              "\n",
              "[5 rows x 15 columns]"
            ]
          },
          "metadata": {
            "tags": []
          },
          "execution_count": 7
        }
      ]
    },
    {
      "cell_type": "code",
      "metadata": {
        "colab": {
          "base_uri": "https://localhost:8080/",
          "height": 265
        },
        "id": "-WEnRCLkSvFC",
        "outputId": "fc76044d-db17-4b20-c88a-cfdb2d00e283"
      },
      "source": [
        "fig = plt.figure() \n",
        "ax = fig.add_subplot(111) \n",
        "titanic_df['Age'].plot(kind='kde', ax=ax) \n",
        "titanic_df['Age_random'].plot(kind='kde', ax=ax, color='red') \n",
        "lines, labels = ax.get_legend_handles_labels()"
      ],
      "execution_count": 12,
      "outputs": [
        {
          "output_type": "display_data",
          "data": {
            "image/png": "[encoded data removed]",
            "text/plain": [
              "<Figure size 432x288 with 1 Axes>"
            ]
          },
          "metadata": {
            "tags": [],
            "needs_background": "light"
          }
        }
      ]
    },
    {
      "cell_type": "markdown",
      "metadata": {
        "id": "VQXyrzAAWBCN"
      },
      "source": [
        "3) Capturing NaN values with a new feature\n",
        "\n",
        "    It works well if the data is not missing at random i.e. MNAR\n",
        "\n",
        "    Advantages :=\n",
        "    1) Easy to implement\n",
        "    2) Captures the importance of missing values\n",
        "    Disadvantages :=\n",
        "    1) Creating additional features for every NaN'd column which can lead to Curse of Dimensionality"
      ]
    },
    {
      "cell_type": "code",
      "metadata": {
        "colab": {
          "base_uri": "https://localhost:8080/",
          "height": 504
        },
        "id": "1styR0osTHIN",
        "outputId": "6266057b-92e7-4f64-a4e8-68927de33ac4"
      },
      "source": [
        "def impute_nan(df, var):\n",
        "    df[var+'_NaN'] = np.where(df[var].isnull(), 1, 0)\n",
        "\n",
        "impute_nan(titanic_df, 'Age')\n",
        "\n",
        "titanic_df.head()"
      ],
      "execution_count": 13,
      "outputs": [
        {
          "output_type": "execute_result",
          "data": {
            "text/html": [
              "<div>\n",
              "<style scoped>\n",
              "    .dataframe tbody tr th:only-of-type {\n",
              "        vertical-align: middle;\n",
              "    }\n",
              "\n",
              "    .dataframe tbody tr th {\n",
              "        vertical-align: top;\n",
              "    }\n",
              "\n",
              "    .dataframe thead th {\n",
              "        text-align: right;\n",
              "    }\n",
              "</style>\n",
              "<table border=\"1\" class=\"dataframe\">\n",
              "  <thead>\n",
              "    <tr style=\"text-align: right;\">\n",
              "      <th></th>\n",
              "      <th>PassengerId</th>\n",
              "      <th>Survived</th>\n",
              "      <th>Pclass</th>\n",
              "      <th>Name</th>\n",
              "      <th>Sex</th>\n",
              "      <th>Age</th>\n",
              "      <th>SibSp</th>\n",
              "      <th>Parch</th>\n",
              "      <th>Ticket</th>\n",
              "      <th>Fare</th>\n",
              "      <th>Cabin</th>\n",
              "      <th>Embarked</th>\n",
              "      <th>cabin_null</th>\n",
              "      <th>Age_median</th>\n",
              "      <th>Age_random</th>\n",
              "      <th>Age_NaN</th>\n",
              "    </tr>\n",
              "  </thead>\n",
              "  <tbody>\n",
              "    <tr>\n",
              "      <th>0</th>\n",
              "      <td>1</td>\n",
              "      <td>0</td>\n",
              "      <td>3</td>\n",
              "      <td>Braund, Mr. Owen Harris</td>\n",
              "      <td>male</td>\n",
              "      <td>22.0</td>\n",
              "      <td>1</td>\n",
              "      <td>0</td>\n",
              "      <td>A/5 21171</td>\n",
              "      <td>7.2500</td>\n",
              "      <td>NaN</td>\n",
              "      <td>S</td>\n",
              "      <td>1</td>\n",
              "      <td>22.0</td>\n",
              "      <td>22.0</td>\n",
              "      <td>0</td>\n",
              "    </tr>\n",
              "    <tr>\n",
              "      <th>1</th>\n",
              "      <td>2</td>\n",
              "      <td>1</td>\n",
              "      <td>1</td>\n",
              "      <td>Cumings, Mrs. John Bradley (Florence Briggs Th...</td>\n",
              "      <td>female</td>\n",
              "      <td>38.0</td>\n",
              "      <td>1</td>\n",
              "      <td>0</td>\n",
              "      <td>PC 17599</td>\n",
              "      <td>71.2833</td>\n",
              "      <td>C85</td>\n",
              "      <td>C</td>\n",
              "      <td>0</td>\n",
              "      <td>38.0</td>\n",
              "      <td>38.0</td>\n",
              "      <td>0</td>\n",
              "    </tr>\n",
              "    <tr>\n",
              "      <th>2</th>\n",
              "      <td>3</td>\n",
              "      <td>1</td>\n",
              "      <td>3</td>\n",
              "      <td>Heikkinen, Miss. Laina</td>\n",
              "      <td>female</td>\n",
              "      <td>26.0</td>\n",
              "      <td>0</td>\n",
              "      <td>0</td>\n",
              "      <td>STON/O2. 3101282</td>\n",
              "      <td>7.9250</td>\n",
              "      <td>NaN</td>\n",
              "      <td>S</td>\n",
              "      <td>1</td>\n",
              "      <td>26.0</td>\n",
              "      <td>26.0</td>\n",
              "      <td>0</td>\n",
              "    </tr>\n",
              "    <tr>\n",
              "      <th>3</th>\n",
              "      <td>4</td>\n",
              "      <td>1</td>\n",
              "      <td>1</td>\n",
              "      <td>Futrelle, Mrs. Jacques Heath (Lily May Peel)</td>\n",
              "      <td>female</td>\n",
              "      <td>35.0</td>\n",
              "      <td>1</td>\n",
              "      <td>0</td>\n",
              "      <td>113803</td>\n",
              "      <td>53.1000</td>\n",
              "      <td>C123</td>\n",
              "      <td>S</td>\n",
              "      <td>0</td>\n",
              "      <td>35.0</td>\n",
              "      <td>35.0</td>\n",
              "      <td>0</td>\n",
              "    </tr>\n",
              "    <tr>\n",
              "      <th>4</th>\n",
              "      <td>5</td>\n",
              "      <td>0</td>\n",
              "      <td>3</td>\n",
              "      <td>Allen, Mr. William Henry</td>\n",
              "      <td>male</td>\n",
              "      <td>35.0</td>\n",
              "      <td>0</td>\n",
              "      <td>0</td>\n",
              "      <td>373450</td>\n",
              "      <td>8.0500</td>\n",
              "      <td>NaN</td>\n",
              "      <td>S</td>\n",
              "      <td>1</td>\n",
              "      <td>35.0</td>\n",
              "      <td>35.0</td>\n",
              "      <td>0</td>\n",
              "    </tr>\n",
              "  </tbody>\n",
              "</table>\n",
              "</div>"
            ],
            "text/plain": [
              "   PassengerId  Survived  Pclass  ... Age_median Age_random  Age_NaN\n",
              "0            1         0       3  ...       22.0       22.0        0\n",
              "1            2         1       1  ...       38.0       38.0        0\n",
              "2            3         1       3  ...       26.0       26.0        0\n",
              "3            4         1       1  ...       35.0       35.0        0\n",
              "4            5         0       3  ...       35.0       35.0        0\n",
              "\n",
              "[5 rows x 16 columns]"
            ]
          },
          "metadata": {
            "tags": []
          },
          "execution_count": 13
        }
      ]
    },
    {
      "cell_type": "markdown",
      "metadata": {
        "id": "HJBCb7OWaWxF"
      },
      "source": [
        "4) End of distribution Imputation\n",
        "\n",
        "    Advantages :=\n",
        "    1) Easy to implement\n",
        "    2) Captures the importance of missingness if there is one\n",
        "    Disadvantages :=\n",
        "    1) Distorts the original dist of the variable\n",
        "    2) If missingness is not important, it may mask the predictive power of the original variable by distorting its dist\n",
        "    3) If the number of NA is big, it will mask true outliers in the dist\n",
        "    4) If the number of NA is small, the replaced NA maybe considered an outlier and pre-processed in a subsequent feature engineering technique"
      ]
    },
    {
      "cell_type": "code",
      "metadata": {
        "colab": {
          "base_uri": "https://localhost:8080/",
          "height": 351
        },
        "id": "-kQAFBpzWAhd",
        "outputId": "8505d730-9029-4ee2-9ffa-0a4a09079df1"
      },
      "source": [
        "# To look for outliers :-\n",
        "sns.boxplot('Age', data=titanic_df)"
      ],
      "execution_count": 16,
      "outputs": [
        {
          "output_type": "stream",
          "text": [
            "/usr/local/lib/python3.7/dist-packages/seaborn/_decorators.py:43: FutureWarning: Pass the following variable as a keyword arg: x. From version 0.12, the only valid positional argument will be `data`, and passing other arguments without an explicit keyword will result in an error or misinterpretation.\n",
            "  FutureWarning\n"
          ],
          "name": "stderr"
        },
        {
          "output_type": "execute_result",
          "data": {
            "text/plain": [
              "<matplotlib.axes._subplots.AxesSubplot at 0x7f410a540550>"
            ]
          },
          "metadata": {
            "tags": []
          },
          "execution_count": 16
        },
        {
          "output_type": "display_data",
          "data": {
            "image/png": "[encoded data removed]",
            "text/plain": [
              "<Figure size 432x288 with 1 Axes>"
            ]
          },
          "metadata": {
            "tags": [],
            "needs_background": "light"
          }
        }
      ]
    },
    {
      "cell_type": "code",
      "metadata": {
        "colab": {
          "base_uri": "https://localhost:8080/",
          "height": 504
        },
        "id": "GeQUPC2NWAfF",
        "outputId": "10c9e555-89dd-4b41-b60c-adf8c901e72c"
      },
      "source": [
        "def impute_end_nan(df, var, extreme_val):\n",
        "    df[var+'_end_dist'] = df[var].fillna(extreme_val)\n",
        "    df[var].fillna(df[var].median(), inplace=True)\n",
        "\n",
        "extreme_val = titanic_df['Age'].mean() + 3*titanic_df['Age'].std() # taking the 3rd STD\n",
        "\n",
        "impute_end_nan(titanic_df, 'Age', extreme_val)\n",
        "\n",
        "titanic_df.head()"
      ],
      "execution_count": 19,
      "outputs": [
        {
          "output_type": "execute_result",
          "data": {
            "text/html": [
              "<div>\n",
              "<style scoped>\n",
              "    .dataframe tbody tr th:only-of-type {\n",
              "        vertical-align: middle;\n",
              "    }\n",
              "\n",
              "    .dataframe tbody tr th {\n",
              "        vertical-align: top;\n",
              "    }\n",
              "\n",
              "    .dataframe thead th {\n",
              "        text-align: right;\n",
              "    }\n",
              "</style>\n",
              "<table border=\"1\" class=\"dataframe\">\n",
              "  <thead>\n",
              "    <tr style=\"text-align: right;\">\n",
              "      <th></th>\n",
              "      <th>PassengerId</th>\n",
              "      <th>Survived</th>\n",
              "      <th>Pclass</th>\n",
              "      <th>Name</th>\n",
              "      <th>Sex</th>\n",
              "      <th>Age</th>\n",
              "      <th>SibSp</th>\n",
              "      <th>Parch</th>\n",
              "      <th>Ticket</th>\n",
              "      <th>Fare</th>\n",
              "      <th>Cabin</th>\n",
              "      <th>Embarked</th>\n",
              "      <th>cabin_null</th>\n",
              "      <th>Age_median</th>\n",
              "      <th>Age_random</th>\n",
              "      <th>Age_NaN</th>\n",
              "      <th>Age_end_dist</th>\n",
              "    </tr>\n",
              "  </thead>\n",
              "  <tbody>\n",
              "    <tr>\n",
              "      <th>0</th>\n",
              "      <td>1</td>\n",
              "      <td>0</td>\n",
              "      <td>3</td>\n",
              "      <td>Braund, Mr. Owen Harris</td>\n",
              "      <td>male</td>\n",
              "      <td>22.0</td>\n",
              "      <td>1</td>\n",
              "      <td>0</td>\n",
              "      <td>A/5 21171</td>\n",
              "      <td>7.2500</td>\n",
              "      <td>NaN</td>\n",
              "      <td>S</td>\n",
              "      <td>1</td>\n",
              "      <td>22.0</td>\n",
              "      <td>22.0</td>\n",
              "      <td>0</td>\n",
              "      <td>22.0</td>\n",
              "    </tr>\n",
              "    <tr>\n",
              "      <th>1</th>\n",
              "      <td>2</td>\n",
              "      <td>1</td>\n",
              "      <td>1</td>\n",
              "      <td>Cumings, Mrs. John Bradley (Florence Briggs Th...</td>\n",
              "      <td>female</td>\n",
              "      <td>38.0</td>\n",
              "      <td>1</td>\n",
              "      <td>0</td>\n",
              "      <td>PC 17599</td>\n",
              "      <td>71.2833</td>\n",
              "      <td>C85</td>\n",
              "      <td>C</td>\n",
              "      <td>0</td>\n",
              "      <td>38.0</td>\n",
              "      <td>38.0</td>\n",
              "      <td>0</td>\n",
              "      <td>38.0</td>\n",
              "    </tr>\n",
              "    <tr>\n",
              "      <th>2</th>\n",
              "      <td>3</td>\n",
              "      <td>1</td>\n",
              "      <td>3</td>\n",
              "      <td>Heikkinen, Miss. Laina</td>\n",
              "      <td>female</td>\n",
              "      <td>26.0</td>\n",
              "      <td>0</td>\n",
              "      <td>0</td>\n",
              "      <td>STON/O2. 3101282</td>\n",
              "      <td>7.9250</td>\n",
              "      <td>NaN</td>\n",
              "      <td>S</td>\n",
              "      <td>1</td>\n",
              "      <td>26.0</td>\n",
              "      <td>26.0</td>\n",
              "      <td>0</td>\n",
              "      <td>26.0</td>\n",
              "    </tr>\n",
              "    <tr>\n",
              "      <th>3</th>\n",
              "      <td>4</td>\n",
              "      <td>1</td>\n",
              "      <td>1</td>\n",
              "      <td>Futrelle, Mrs. Jacques Heath (Lily May Peel)</td>\n",
              "      <td>female</td>\n",
              "      <td>35.0</td>\n",
              "      <td>1</td>\n",
              "      <td>0</td>\n",
              "      <td>113803</td>\n",
              "      <td>53.1000</td>\n",
              "      <td>C123</td>\n",
              "      <td>S</td>\n",
              "      <td>0</td>\n",
              "      <td>35.0</td>\n",
              "      <td>35.0</td>\n",
              "      <td>0</td>\n",
              "      <td>35.0</td>\n",
              "    </tr>\n",
              "    <tr>\n",
              "      <th>4</th>\n",
              "      <td>5</td>\n",
              "      <td>0</td>\n",
              "      <td>3</td>\n",
              "      <td>Allen, Mr. William Henry</td>\n",
              "      <td>male</td>\n",
              "      <td>35.0</td>\n",
              "      <td>0</td>\n",
              "      <td>0</td>\n",
              "      <td>373450</td>\n",
              "      <td>8.0500</td>\n",
              "      <td>NaN</td>\n",
              "      <td>S</td>\n",
              "      <td>1</td>\n",
              "      <td>35.0</td>\n",
              "      <td>35.0</td>\n",
              "      <td>0</td>\n",
              "      <td>35.0</td>\n",
              "    </tr>\n",
              "  </tbody>\n",
              "</table>\n",
              "</div>"
            ],
            "text/plain": [
              "   PassengerId  Survived  Pclass  ... Age_random Age_NaN  Age_end_dist\n",
              "0            1         0       3  ...       22.0       0          22.0\n",
              "1            2         1       1  ...       38.0       0          38.0\n",
              "2            3         1       3  ...       26.0       0          26.0\n",
              "3            4         1       1  ...       35.0       0          35.0\n",
              "4            5         0       3  ...       35.0       0          35.0\n",
              "\n",
              "[5 rows x 17 columns]"
            ]
          },
          "metadata": {
            "tags": []
          },
          "execution_count": 19
        }
      ]
    },
    {
      "cell_type": "code",
      "metadata": {
        "colab": {
          "base_uri": "https://localhost:8080/",
          "height": 282
        },
        "id": "X2qWvNjNWAcp",
        "outputId": "21bc69bd-6a7b-4d42-fc5e-6e6a16dc6bbf"
      },
      "source": [
        "titanic_df['Age'].hist(bins=50)"
      ],
      "execution_count": 20,
      "outputs": [
        {
          "output_type": "execute_result",
          "data": {
            "text/plain": [
              "<matplotlib.axes._subplots.AxesSubplot at 0x7f4109ce9b10>"
            ]
          },
          "metadata": {
            "tags": []
          },
          "execution_count": 20
        },
        {
          "output_type": "display_data",
          "data": {
            "image/png": "[encoded data removed]",
            "text/plain": [
              "<Figure size 432x288 with 1 Axes>"
            ]
          },
          "metadata": {
            "tags": [],
            "needs_background": "light"
          }
        }
      ]
    },
    {
      "cell_type": "code",
      "metadata": {
        "colab": {
          "base_uri": "https://localhost:8080/",
          "height": 282
        },
        "id": "pymJt3CHeH9Z",
        "outputId": "920c3ded-4f85-430d-a376-caee9fc10a72"
      },
      "source": [
        "titanic_df['Age_end_dist'].hist(bins=50)"
      ],
      "execution_count": 22,
      "outputs": [
        {
          "output_type": "execute_result",
          "data": {
            "text/plain": [
              "<matplotlib.axes._subplots.AxesSubplot at 0x7f4109b58510>"
            ]
          },
          "metadata": {
            "tags": []
          },
          "execution_count": 22
        },
        {
          "output_type": "display_data",
          "data": {
            "image/png": "[encoded data removed]",
            "text/plain": [
              "<Figure size 432x288 with 1 Axes>"
            ]
          },
          "metadata": {
            "tags": [],
            "needs_background": "light"
          }
        }
      ]
    },
    {
      "cell_type": "code",
      "metadata": {
        "colab": {
          "base_uri": "https://localhost:8080/",
          "height": 352
        },
        "id": "46Kwy0ZjeH49",
        "outputId": "7e2b1499-11ab-4dbd-f044-4bb0ada3c59e"
      },
      "source": [
        "sns.boxplot('Age_end_dist', data=titanic_df)\n",
        "\n",
        "# voila ! no outliers"
      ],
      "execution_count": 23,
      "outputs": [
        {
          "output_type": "stream",
          "text": [
            "/usr/local/lib/python3.7/dist-packages/seaborn/_decorators.py:43: FutureWarning: Pass the following variable as a keyword arg: x. From version 0.12, the only valid positional argument will be `data`, and passing other arguments without an explicit keyword will result in an error or misinterpretation.\n",
            "  FutureWarning\n"
          ],
          "name": "stderr"
        },
        {
          "output_type": "execute_result",
          "data": {
            "text/plain": [
              "<matplotlib.axes._subplots.AxesSubplot at 0x7f4109a0b650>"
            ]
          },
          "metadata": {
            "tags": []
          },
          "execution_count": 23
        },
        {
          "output_type": "display_data",
          "data": {
            "image/png": "[encoded data removed]",
            "text/plain": [
              "<Figure size 432x288 with 1 Axes>"
            ]
          },
          "metadata": {
            "tags": [],
            "needs_background": "light"
          }
        }
      ]
    },
    {
      "cell_type": "markdown",
      "metadata": {
        "id": "_DA7e-gLgilL"
      },
      "source": [
        "5) Arbitrary Imputation\n",
        "\n",
        "    This technique was derived from a Kaggle Competition.\n",
        "    It consists of replacing NaN by arbitrary value.\n",
        "    It should not be more frequently present.\n",
        "\n",
        "    Advantages :=\n",
        "    1) Easy to implement\n",
        "    2) Captures the importance of missingness if there is one\n",
        "    Disadvantages :=\n",
        "    1) Distorts the original dist of the variable\n",
        "    2) If missingness is not imp, it may mask the predictivie power of the orignal var by distortion.\n",
        "    3) Hard to decide which value to use."
      ]
    },
    {
      "cell_type": "code",
      "metadata": {
        "id": "PF86-4BceQDQ"
      },
      "source": [
        "def impute_arbitrary(df, var):\n",
        "    df[var+'_arbitrary'] = df[var].fillna(100)"
      ],
      "execution_count": 8,
      "outputs": []
    },
    {
      "cell_type": "markdown",
      "metadata": {
        "id": "hYz8qbQEXU98"
      },
      "source": [
        "### Handling Missing Categorical Features"
      ]
    },
    {
      "cell_type": "code",
      "metadata": {
        "colab": {
          "base_uri": "https://localhost:8080/",
          "height": 206
        },
        "id": "OVHdovcleP-r",
        "outputId": "858bd637-e87f-4943-887f-6156e1a41f3d"
      },
      "source": [
        "df = pd.read_csv(\"/content/house_price.csv\", usecols=['BsmtQual', 'FireplaceQu', 'GarageType', 'SalePrice'])\n",
        "\n",
        "df.head()"
      ],
      "execution_count": 10,
      "outputs": [
        {
          "output_type": "execute_result",
          "data": {
            "text/html": [
              "<div>\n",
              "<style scoped>\n",
              "    .dataframe tbody tr th:only-of-type {\n",
              "        vertical-align: middle;\n",
              "    }\n",
              "\n",
              "    .dataframe tbody tr th {\n",
              "        vertical-align: top;\n",
              "    }\n",
              "\n",
              "    .dataframe thead th {\n",
              "        text-align: right;\n",
              "    }\n",
              "</style>\n",
              "<table border=\"1\" class=\"dataframe\">\n",
              "  <thead>\n",
              "    <tr style=\"text-align: right;\">\n",
              "      <th></th>\n",
              "      <th>BsmtQual</th>\n",
              "      <th>FireplaceQu</th>\n",
              "      <th>GarageType</th>\n",
              "      <th>SalePrice</th>\n",
              "    </tr>\n",
              "  </thead>\n",
              "  <tbody>\n",
              "    <tr>\n",
              "      <th>0</th>\n",
              "      <td>Gd</td>\n",
              "      <td>NaN</td>\n",
              "      <td>Attchd</td>\n",
              "      <td>208500</td>\n",
              "    </tr>\n",
              "    <tr>\n",
              "      <th>1</th>\n",
              "      <td>Gd</td>\n",
              "      <td>TA</td>\n",
              "      <td>Attchd</td>\n",
              "      <td>181500</td>\n",
              "    </tr>\n",
              "    <tr>\n",
              "      <th>2</th>\n",
              "      <td>Gd</td>\n",
              "      <td>TA</td>\n",
              "      <td>Attchd</td>\n",
              "      <td>223500</td>\n",
              "    </tr>\n",
              "    <tr>\n",
              "      <th>3</th>\n",
              "      <td>TA</td>\n",
              "      <td>Gd</td>\n",
              "      <td>Detchd</td>\n",
              "      <td>140000</td>\n",
              "    </tr>\n",
              "    <tr>\n",
              "      <th>4</th>\n",
              "      <td>Gd</td>\n",
              "      <td>TA</td>\n",
              "      <td>Attchd</td>\n",
              "      <td>250000</td>\n",
              "    </tr>\n",
              "  </tbody>\n",
              "</table>\n",
              "</div>"
            ],
            "text/plain": [
              "  BsmtQual FireplaceQu GarageType  SalePrice\n",
              "0       Gd         NaN     Attchd     208500\n",
              "1       Gd          TA     Attchd     181500\n",
              "2       Gd          TA     Attchd     223500\n",
              "3       TA          Gd     Detchd     140000\n",
              "4       Gd          TA     Attchd     250000"
            ]
          },
          "metadata": {
            "tags": []
          },
          "execution_count": 10
        }
      ]
    },
    {
      "cell_type": "code",
      "metadata": {
        "colab": {
          "base_uri": "https://localhost:8080/"
        },
        "id": "LtSwT912i6ni",
        "outputId": "91a3a90a-cdd3-4d99-ab29-af45d3fb437b"
      },
      "source": [
        "df.isnull().sum().sort_values(ascending=True)"
      ],
      "execution_count": 18,
      "outputs": [
        {
          "output_type": "execute_result",
          "data": {
            "text/plain": [
              "SalePrice        0\n",
              "BsmtQual        37\n",
              "GarageType      81\n",
              "FireplaceQu    690\n",
              "dtype: int64"
            ]
          },
          "metadata": {
            "tags": []
          },
          "execution_count": 18
        }
      ]
    },
    {
      "cell_type": "markdown",
      "metadata": {
        "id": "KGY2aogtiQbZ"
      },
      "source": [
        "####1) Frequent Category Imputation\n",
        "\n",
        "    It is used when the missing values are less\n",
        "\n",
        "    Advantages :=\n",
        "    1) Easy to implement\n",
        "    2) Faster way to implement\n",
        "    Disadvantage :=\n",
        "    1) Since we are using the more freq labels, it may use them in an over-represented way if there are many NaNs.\n",
        "    2) It distorts the relation of the most freq label."
      ]
    },
    {
      "cell_type": "code",
      "metadata": {
        "colab": {
          "base_uri": "https://localhost:8080/",
          "height": 286
        },
        "id": "8IojO1XIgies",
        "outputId": "9f4aaaf9-9fc9-4751-99c2-ca1a521f7e4d"
      },
      "source": [
        "df['BsmtQual'].value_counts().sort_values(ascending=False).plot.bar()"
      ],
      "execution_count": 22,
      "outputs": [
        {
          "output_type": "execute_result",
          "data": {
            "text/plain": [
              "<matplotlib.axes._subplots.AxesSubplot at 0x7f625e7be290>"
            ]
          },
          "metadata": {
            "tags": []
          },
          "execution_count": 22
        },
        {
          "output_type": "display_data",
          "data": {
            "image/png": "[encoded data removed]",
            "text/plain": [
              "<Figure size 432x288 with 1 Axes>"
            ]
          },
          "metadata": {
            "tags": [],
            "needs_background": "light"
          }
        }
      ]
    },
    {
      "cell_type": "code",
      "metadata": {
        "colab": {
          "base_uri": "https://localhost:8080/",
          "height": 317
        },
        "id": "zTpWlsZBkC3e",
        "outputId": "c62cc6dc-132b-4e03-ce8f-dc081b0131ea"
      },
      "source": [
        "df['GarageType'].value_counts().sort_values(ascending=False).plot.bar()"
      ],
      "execution_count": 23,
      "outputs": [
        {
          "output_type": "execute_result",
          "data": {
            "text/plain": [
              "<matplotlib.axes._subplots.AxesSubplot at 0x7f625f3fb5d0>"
            ]
          },
          "metadata": {
            "tags": []
          },
          "execution_count": 23
        },
        {
          "output_type": "display_data",
          "data": {
            "image/png": "[encoded data removed]",
            "text/plain": [
              "<Figure size 432x288 with 1 Axes>"
            ]
          },
          "metadata": {
            "tags": [],
            "needs_background": "light"
          }
        }
      ]
    },
    {
      "cell_type": "code",
      "metadata": {
        "colab": {
          "base_uri": "https://localhost:8080/",
          "height": 286
        },
        "id": "9jlxbiG_giaI",
        "outputId": "b1a36201-a3f0-4981-f896-ae20c4362512"
      },
      "source": [
        "df['FireplaceQu'].value_counts().sort_values(ascending=False).plot.bar()"
      ],
      "execution_count": 24,
      "outputs": [
        {
          "output_type": "execute_result",
          "data": {
            "text/plain": [
              "<matplotlib.axes._subplots.AxesSubplot at 0x7f625e6743d0>"
            ]
          },
          "metadata": {
            "tags": []
          },
          "execution_count": 24
        },
        {
          "output_type": "display_data",
          "data": {
            "image/png": "[encoded data removed]",
            "text/plain": [
              "<Figure size 432x288 with 1 Axes>"
            ]
          },
          "metadata": {
            "tags": [],
            "needs_background": "light"
          }
        }
      ]
    },
    {
      "cell_type": "code",
      "metadata": {
        "colab": {
          "base_uri": "https://localhost:8080/"
        },
        "id": "-AQAo2cTgiYV",
        "outputId": "6984be99-b979-4a56-caaf-4597d6925c37"
      },
      "source": [
        "def impute_freq_nan(df, var):\n",
        "    highest_freq_cat = df[var].value_counts().sort_values(ascending=False).index[0]\n",
        "    df[var].fillna(highest_freq_cat, inplace=True)\n",
        "\n",
        "impute_freq_nan(df, 'BsmtQual')\n",
        "\n",
        "df['BsmtQual'].isnull().sum()"
      ],
      "execution_count": 33,
      "outputs": [
        {
          "output_type": "execute_result",
          "data": {
            "text/plain": [
              "0"
            ]
          },
          "metadata": {
            "tags": []
          },
          "execution_count": 33
        }
      ]
    },
    {
      "cell_type": "markdown",
      "metadata": {
        "id": "iMfW7kXDosLa"
      },
      "source": [
        "####2) Adding a variable to capture NaN\n",
        "\n",
        "        Disadvantages :=\n",
        "        1) It adds a new feature for every feature in which there are NaNs"
      ]
    },
    {
      "cell_type": "code",
      "metadata": {
        "colab": {
          "base_uri": "https://localhost:8080/",
          "height": 206
        },
        "id": "jtFqSGVTgiS5",
        "outputId": "31aacef9-5219-4d6d-8e61-e490749757c2"
      },
      "source": [
        "df['FireplaceQu_var'] = np.where(df['FireplaceQu'].isnull(), 1, 0)\n",
        "\n",
        "df.head()"
      ],
      "execution_count": 40,
      "outputs": [
        {
          "output_type": "execute_result",
          "data": {
            "text/html": [
              "<div>\n",
              "<style scoped>\n",
              "    .dataframe tbody tr th:only-of-type {\n",
              "        vertical-align: middle;\n",
              "    }\n",
              "\n",
              "    .dataframe tbody tr th {\n",
              "        vertical-align: top;\n",
              "    }\n",
              "\n",
              "    .dataframe thead th {\n",
              "        text-align: right;\n",
              "    }\n",
              "</style>\n",
              "<table border=\"1\" class=\"dataframe\">\n",
              "  <thead>\n",
              "    <tr style=\"text-align: right;\">\n",
              "      <th></th>\n",
              "      <th>BsmtQual</th>\n",
              "      <th>FireplaceQu</th>\n",
              "      <th>GarageType</th>\n",
              "      <th>SalePrice</th>\n",
              "      <th>FireplaceQu_var</th>\n",
              "    </tr>\n",
              "  </thead>\n",
              "  <tbody>\n",
              "    <tr>\n",
              "      <th>0</th>\n",
              "      <td>Gd</td>\n",
              "      <td>NaN</td>\n",
              "      <td>Attchd</td>\n",
              "      <td>208500</td>\n",
              "      <td>1</td>\n",
              "    </tr>\n",
              "    <tr>\n",
              "      <th>1</th>\n",
              "      <td>Gd</td>\n",
              "      <td>TA</td>\n",
              "      <td>Attchd</td>\n",
              "      <td>181500</td>\n",
              "      <td>0</td>\n",
              "    </tr>\n",
              "    <tr>\n",
              "      <th>2</th>\n",
              "      <td>Gd</td>\n",
              "      <td>TA</td>\n",
              "      <td>Attchd</td>\n",
              "      <td>223500</td>\n",
              "      <td>0</td>\n",
              "    </tr>\n",
              "    <tr>\n",
              "      <th>3</th>\n",
              "      <td>TA</td>\n",
              "      <td>Gd</td>\n",
              "      <td>Detchd</td>\n",
              "      <td>140000</td>\n",
              "      <td>0</td>\n",
              "    </tr>\n",
              "    <tr>\n",
              "      <th>4</th>\n",
              "      <td>Gd</td>\n",
              "      <td>TA</td>\n",
              "      <td>Attchd</td>\n",
              "      <td>250000</td>\n",
              "      <td>0</td>\n",
              "    </tr>\n",
              "  </tbody>\n",
              "</table>\n",
              "</div>"
            ],
            "text/plain": [
              "  BsmtQual FireplaceQu GarageType  SalePrice  FireplaceQu_var\n",
              "0       Gd         NaN     Attchd     208500                1\n",
              "1       Gd          TA     Attchd     181500                0\n",
              "2       Gd          TA     Attchd     223500                0\n",
              "3       TA          Gd     Detchd     140000                0\n",
              "4       Gd          TA     Attchd     250000                0"
            ]
          },
          "metadata": {
            "tags": []
          },
          "execution_count": 40
        }
      ]
    },
    {
      "cell_type": "code",
      "metadata": {
        "colab": {
          "base_uri": "https://localhost:8080/"
        },
        "id": "N940qkrWpYKA",
        "outputId": "a501ec27-7bbf-4866-f378-67337f299768"
      },
      "source": [
        "freq_val = df['FireplaceQu'].mode()[0] # or df[var].value_counts().sort_values(ascending=False).index[0]\n",
        "df['FireplaceQu'].fillna(freq_val)"
      ],
      "execution_count": 32,
      "outputs": [
        {
          "output_type": "execute_result",
          "data": {
            "text/plain": [
              "0       Gd\n",
              "1       TA\n",
              "2       TA\n",
              "3       Gd\n",
              "4       TA\n",
              "        ..\n",
              "1455    TA\n",
              "1456    TA\n",
              "1457    Gd\n",
              "1458    Gd\n",
              "1459    Gd\n",
              "Name: FireplaceQu, Length: 1460, dtype: object"
            ]
          },
          "metadata": {
            "tags": []
          },
          "execution_count": 32
        }
      ]
    },
    {
      "cell_type": "markdown",
      "metadata": {
        "id": "C_wySZDZriMS"
      },
      "source": [
        "####3) Replacing NaN with a new category (Most Used)\n",
        "\n",
        "        It is used when we have more frequent categories."
      ]
    },
    {
      "cell_type": "code",
      "metadata": {
        "colab": {
          "base_uri": "https://localhost:8080/",
          "height": 206
        },
        "id": "3mqBMBzFpYF4",
        "outputId": "c2c4314d-1e54-421c-ca52-a66780561869"
      },
      "source": [
        "def impute_nan_with_new(df, var):\n",
        "    df[var+'_new'] = np.where(df[var].isnull(), 'Missing', df[var])\n",
        "\n",
        "impute_nan_with_new(df, 'GarageType')\n",
        "\n",
        "df.head()"
      ],
      "execution_count": 41,
      "outputs": [
        {
          "output_type": "execute_result",
          "data": {
            "text/html": [
              "<div>\n",
              "<style scoped>\n",
              "    .dataframe tbody tr th:only-of-type {\n",
              "        vertical-align: middle;\n",
              "    }\n",
              "\n",
              "    .dataframe tbody tr th {\n",
              "        vertical-align: top;\n",
              "    }\n",
              "\n",
              "    .dataframe thead th {\n",
              "        text-align: right;\n",
              "    }\n",
              "</style>\n",
              "<table border=\"1\" class=\"dataframe\">\n",
              "  <thead>\n",
              "    <tr style=\"text-align: right;\">\n",
              "      <th></th>\n",
              "      <th>BsmtQual</th>\n",
              "      <th>FireplaceQu</th>\n",
              "      <th>GarageType</th>\n",
              "      <th>SalePrice</th>\n",
              "      <th>FireplaceQu_var</th>\n",
              "      <th>GarageType_new</th>\n",
              "    </tr>\n",
              "  </thead>\n",
              "  <tbody>\n",
              "    <tr>\n",
              "      <th>0</th>\n",
              "      <td>Gd</td>\n",
              "      <td>NaN</td>\n",
              "      <td>Attchd</td>\n",
              "      <td>208500</td>\n",
              "      <td>1</td>\n",
              "      <td>Attchd</td>\n",
              "    </tr>\n",
              "    <tr>\n",
              "      <th>1</th>\n",
              "      <td>Gd</td>\n",
              "      <td>TA</td>\n",
              "      <td>Attchd</td>\n",
              "      <td>181500</td>\n",
              "      <td>0</td>\n",
              "      <td>Attchd</td>\n",
              "    </tr>\n",
              "    <tr>\n",
              "      <th>2</th>\n",
              "      <td>Gd</td>\n",
              "      <td>TA</td>\n",
              "      <td>Attchd</td>\n",
              "      <td>223500</td>\n",
              "      <td>0</td>\n",
              "      <td>Attchd</td>\n",
              "    </tr>\n",
              "    <tr>\n",
              "      <th>3</th>\n",
              "      <td>TA</td>\n",
              "      <td>Gd</td>\n",
              "      <td>Detchd</td>\n",
              "      <td>140000</td>\n",
              "      <td>0</td>\n",
              "      <td>Detchd</td>\n",
              "    </tr>\n",
              "    <tr>\n",
              "      <th>4</th>\n",
              "      <td>Gd</td>\n",
              "      <td>TA</td>\n",
              "      <td>Attchd</td>\n",
              "      <td>250000</td>\n",
              "      <td>0</td>\n",
              "      <td>Attchd</td>\n",
              "    </tr>\n",
              "  </tbody>\n",
              "</table>\n",
              "</div>"
            ],
            "text/plain": [
              "  BsmtQual FireplaceQu GarageType  SalePrice  FireplaceQu_var GarageType_new\n",
              "0       Gd         NaN     Attchd     208500                1         Attchd\n",
              "1       Gd          TA     Attchd     181500                0         Attchd\n",
              "2       Gd          TA     Attchd     223500                0         Attchd\n",
              "3       TA          Gd     Detchd     140000                0         Detchd\n",
              "4       Gd          TA     Attchd     250000                0         Attchd"
            ]
          },
          "metadata": {
            "tags": []
          },
          "execution_count": 41
        }
      ]
    },
    {
      "cell_type": "markdown",
      "metadata": {
        "id": "AY3CXNmRuyjt"
      },
      "source": [
        "###Handling/Encoding Categorical Features"
      ]
    },
    {
      "cell_type": "markdown",
      "metadata": {
        "id": "qYoJD3-_vA6y"
      },
      "source": [
        "####1) One Hot Encoding\n",
        "\n",
        "        It is used when we have very less categorical features.\n",
        "\n",
        "        Disadvantages :=\n",
        "        1) If we have N categories in a features, it will create N-1 additional features"
      ]
    },
    {
      "cell_type": "code",
      "metadata": {
        "colab": {
          "base_uri": "https://localhost:8080/",
          "height": 206
        },
        "id": "a0s_UswGpYC9",
        "outputId": "60766a09-262a-40be-9d22-26e975f2f8e6"
      },
      "source": [
        "df1 = pd.read_csv(\"/content/train.csv\", usecols=['Sex'])\n",
        "\n",
        "df1.head()"
      ],
      "execution_count": 43,
      "outputs": [
        {
          "output_type": "execute_result",
          "data": {
            "text/html": [
              "<div>\n",
              "<style scoped>\n",
              "    .dataframe tbody tr th:only-of-type {\n",
              "        vertical-align: middle;\n",
              "    }\n",
              "\n",
              "    .dataframe tbody tr th {\n",
              "        vertical-align: top;\n",
              "    }\n",
              "\n",
              "    .dataframe thead th {\n",
              "        text-align: right;\n",
              "    }\n",
              "</style>\n",
              "<table border=\"1\" class=\"dataframe\">\n",
              "  <thead>\n",
              "    <tr style=\"text-align: right;\">\n",
              "      <th></th>\n",
              "      <th>Sex</th>\n",
              "    </tr>\n",
              "  </thead>\n",
              "  <tbody>\n",
              "    <tr>\n",
              "      <th>0</th>\n",
              "      <td>male</td>\n",
              "    </tr>\n",
              "    <tr>\n",
              "      <th>1</th>\n",
              "      <td>female</td>\n",
              "    </tr>\n",
              "    <tr>\n",
              "      <th>2</th>\n",
              "      <td>female</td>\n",
              "    </tr>\n",
              "    <tr>\n",
              "      <th>3</th>\n",
              "      <td>female</td>\n",
              "    </tr>\n",
              "    <tr>\n",
              "      <th>4</th>\n",
              "      <td>male</td>\n",
              "    </tr>\n",
              "  </tbody>\n",
              "</table>\n",
              "</div>"
            ],
            "text/plain": [
              "      Sex\n",
              "0    male\n",
              "1  female\n",
              "2  female\n",
              "3  female\n",
              "4    male"
            ]
          },
          "metadata": {
            "tags": []
          },
          "execution_count": 43
        }
      ]
    },
    {
      "cell_type": "code",
      "metadata": {
        "colab": {
          "base_uri": "https://localhost:8080/"
        },
        "id": "-LGtfj_bvqBB",
        "outputId": "da423171-83e3-4459-9399-84bd455d8fb7"
      },
      "source": [
        "df1.isnull().sum()"
      ],
      "execution_count": 45,
      "outputs": [
        {
          "output_type": "execute_result",
          "data": {
            "text/plain": [
              "Sex    0\n",
              "dtype: int64"
            ]
          },
          "metadata": {
            "tags": []
          },
          "execution_count": 45
        }
      ]
    },
    {
      "cell_type": "code",
      "metadata": {
        "colab": {
          "base_uri": "https://localhost:8080/",
          "height": 206
        },
        "id": "wTBSA99wvp8U",
        "outputId": "d00be103-dfd3-43fb-9fce-a3c529ccc1e8"
      },
      "source": [
        "pd.get_dummies(df1, drop_first=True).head()"
      ],
      "execution_count": 47,
      "outputs": [
        {
          "output_type": "execute_result",
          "data": {
            "text/html": [
              "<div>\n",
              "<style scoped>\n",
              "    .dataframe tbody tr th:only-of-type {\n",
              "        vertical-align: middle;\n",
              "    }\n",
              "\n",
              "    .dataframe tbody tr th {\n",
              "        vertical-align: top;\n",
              "    }\n",
              "\n",
              "    .dataframe thead th {\n",
              "        text-align: right;\n",
              "    }\n",
              "</style>\n",
              "<table border=\"1\" class=\"dataframe\">\n",
              "  <thead>\n",
              "    <tr style=\"text-align: right;\">\n",
              "      <th></th>\n",
              "      <th>Sex_male</th>\n",
              "    </tr>\n",
              "  </thead>\n",
              "  <tbody>\n",
              "    <tr>\n",
              "      <th>0</th>\n",
              "      <td>1</td>\n",
              "    </tr>\n",
              "    <tr>\n",
              "      <th>1</th>\n",
              "      <td>0</td>\n",
              "    </tr>\n",
              "    <tr>\n",
              "      <th>2</th>\n",
              "      <td>0</td>\n",
              "    </tr>\n",
              "    <tr>\n",
              "      <th>3</th>\n",
              "      <td>0</td>\n",
              "    </tr>\n",
              "    <tr>\n",
              "      <th>4</th>\n",
              "      <td>1</td>\n",
              "    </tr>\n",
              "  </tbody>\n",
              "</table>\n",
              "</div>"
            ],
            "text/plain": [
              "   Sex_male\n",
              "0         1\n",
              "1         0\n",
              "2         0\n",
              "3         0\n",
              "4         1"
            ]
          },
          "metadata": {
            "tags": []
          },
          "execution_count": 47
        }
      ]
    },
    {
      "cell_type": "code",
      "metadata": {
        "colab": {
          "base_uri": "https://localhost:8080/"
        },
        "id": "n56U4LEzvp6U",
        "outputId": "67bd1601-6fb9-4169-90dc-56140757faa2"
      },
      "source": [
        "df2 = pd.read_csv(\"/content/train.csv\", usecols=['Embarked'])\n",
        "df2.value_counts()"
      ],
      "execution_count": 48,
      "outputs": [
        {
          "output_type": "execute_result",
          "data": {
            "text/plain": [
              "Embarked\n",
              "S           644\n",
              "C           168\n",
              "Q            77\n",
              "dtype: int64"
            ]
          },
          "metadata": {
            "tags": []
          },
          "execution_count": 48
        }
      ]
    },
    {
      "cell_type": "code",
      "metadata": {
        "colab": {
          "base_uri": "https://localhost:8080/",
          "height": 206
        },
        "id": "9X2K-W0Ovp4o",
        "outputId": "ec3c687c-ce04-484c-fcc9-2cbd510e52a5"
      },
      "source": [
        "pd.get_dummies(df2, drop_first=True).head()"
      ],
      "execution_count": 49,
      "outputs": [
        {
          "output_type": "execute_result",
          "data": {
            "text/html": [
              "<div>\n",
              "<style scoped>\n",
              "    .dataframe tbody tr th:only-of-type {\n",
              "        vertical-align: middle;\n",
              "    }\n",
              "\n",
              "    .dataframe tbody tr th {\n",
              "        vertical-align: top;\n",
              "    }\n",
              "\n",
              "    .dataframe thead th {\n",
              "        text-align: right;\n",
              "    }\n",
              "</style>\n",
              "<table border=\"1\" class=\"dataframe\">\n",
              "  <thead>\n",
              "    <tr style=\"text-align: right;\">\n",
              "      <th></th>\n",
              "      <th>Embarked_Q</th>\n",
              "      <th>Embarked_S</th>\n",
              "    </tr>\n",
              "  </thead>\n",
              "  <tbody>\n",
              "    <tr>\n",
              "      <th>0</th>\n",
              "      <td>0</td>\n",
              "      <td>1</td>\n",
              "    </tr>\n",
              "    <tr>\n",
              "      <th>1</th>\n",
              "      <td>0</td>\n",
              "      <td>0</td>\n",
              "    </tr>\n",
              "    <tr>\n",
              "      <th>2</th>\n",
              "      <td>0</td>\n",
              "      <td>1</td>\n",
              "    </tr>\n",
              "    <tr>\n",
              "      <th>3</th>\n",
              "      <td>0</td>\n",
              "      <td>1</td>\n",
              "    </tr>\n",
              "    <tr>\n",
              "      <th>4</th>\n",
              "      <td>0</td>\n",
              "      <td>1</td>\n",
              "    </tr>\n",
              "  </tbody>\n",
              "</table>\n",
              "</div>"
            ],
            "text/plain": [
              "   Embarked_Q  Embarked_S\n",
              "0           0           1\n",
              "1           0           0\n",
              "2           0           1\n",
              "3           0           1\n",
              "4           0           1"
            ]
          },
          "metadata": {
            "tags": []
          },
          "execution_count": 49
        }
      ]
    },
    {
      "cell_type": "markdown",
      "metadata": {
        "id": "7c_DWA7ZyT19"
      },
      "source": [
        "####2) One Hot Encoding with many categorical features"
      ]
    },
    {
      "cell_type": "code",
      "metadata": {
        "colab": {
          "base_uri": "https://localhost:8080/",
          "height": 206
        },
        "id": "kaW6_rm6vp2N",
        "outputId": "960cd226-d6a6-45d3-9d98-7b38d0603e7b"
      },
      "source": [
        "df3 = pd.read_csv(\"/content/mercedes.csv\", usecols=['X0','X1','X2','X3','X4','X5','X6'])\n",
        "df3.head()"
      ],
      "execution_count": 51,
      "outputs": [
        {
          "output_type": "execute_result",
          "data": {
            "text/html": [
              "<div>\n",
              "<style scoped>\n",
              "    .dataframe tbody tr th:only-of-type {\n",
              "        vertical-align: middle;\n",
              "    }\n",
              "\n",
              "    .dataframe tbody tr th {\n",
              "        vertical-align: top;\n",
              "    }\n",
              "\n",
              "    .dataframe thead th {\n",
              "        text-align: right;\n",
              "    }\n",
              "</style>\n",
              "<table border=\"1\" class=\"dataframe\">\n",
              "  <thead>\n",
              "    <tr style=\"text-align: right;\">\n",
              "      <th></th>\n",
              "      <th>X0</th>\n",
              "      <th>X1</th>\n",
              "      <th>X2</th>\n",
              "      <th>X3</th>\n",
              "      <th>X4</th>\n",
              "      <th>X5</th>\n",
              "      <th>X6</th>\n",
              "    </tr>\n",
              "  </thead>\n",
              "  <tbody>\n",
              "    <tr>\n",
              "      <th>0</th>\n",
              "      <td>k</td>\n",
              "      <td>v</td>\n",
              "      <td>at</td>\n",
              "      <td>a</td>\n",
              "      <td>d</td>\n",
              "      <td>u</td>\n",
              "      <td>j</td>\n",
              "    </tr>\n",
              "    <tr>\n",
              "      <th>1</th>\n",
              "      <td>k</td>\n",
              "      <td>t</td>\n",
              "      <td>av</td>\n",
              "      <td>e</td>\n",
              "      <td>d</td>\n",
              "      <td>y</td>\n",
              "      <td>l</td>\n",
              "    </tr>\n",
              "    <tr>\n",
              "      <th>2</th>\n",
              "      <td>az</td>\n",
              "      <td>w</td>\n",
              "      <td>n</td>\n",
              "      <td>c</td>\n",
              "      <td>d</td>\n",
              "      <td>x</td>\n",
              "      <td>j</td>\n",
              "    </tr>\n",
              "    <tr>\n",
              "      <th>3</th>\n",
              "      <td>az</td>\n",
              "      <td>t</td>\n",
              "      <td>n</td>\n",
              "      <td>f</td>\n",
              "      <td>d</td>\n",
              "      <td>x</td>\n",
              "      <td>l</td>\n",
              "    </tr>\n",
              "    <tr>\n",
              "      <th>4</th>\n",
              "      <td>az</td>\n",
              "      <td>v</td>\n",
              "      <td>n</td>\n",
              "      <td>f</td>\n",
              "      <td>d</td>\n",
              "      <td>h</td>\n",
              "      <td>d</td>\n",
              "    </tr>\n",
              "  </tbody>\n",
              "</table>\n",
              "</div>"
            ],
            "text/plain": [
              "   X0 X1  X2 X3 X4 X5 X6\n",
              "0   k  v  at  a  d  u  j\n",
              "1   k  t  av  e  d  y  l\n",
              "2  az  w   n  c  d  x  j\n",
              "3  az  t   n  f  d  x  l\n",
              "4  az  v   n  f  d  h  d"
            ]
          },
          "metadata": {
            "tags": []
          },
          "execution_count": 51
        }
      ]
    },
    {
      "cell_type": "code",
      "metadata": {
        "colab": {
          "base_uri": "https://localhost:8080/"
        },
        "id": "opgI6RXEyYHb",
        "outputId": "243cc2c8-c680-4107-d294-e6e9b10b9775"
      },
      "source": [
        "df3['X0'].unique()"
      ],
      "execution_count": 60,
      "outputs": [
        {
          "output_type": "execute_result",
          "data": {
            "text/plain": [
              "array(['k', 'az', 't', 'al', 'o', 'w', 'j', 'h', 's', 'n', 'ay', 'f', 'x',\n",
              "       'y', 'aj', 'ak', 'am', 'z', 'q', 'at', 'ap', 'v', 'af', 'a', 'e',\n",
              "       'ai', 'd', 'aq', 'c', 'aa', 'ba', 'as', 'i', 'r', 'b', 'ax', 'bc',\n",
              "       'u', 'ad', 'au', 'm', 'l', 'aw', 'ao', 'ac', 'g', 'ab'],\n",
              "      dtype=object)"
            ]
          },
          "metadata": {
            "tags": []
          },
          "execution_count": 60
        }
      ]
    },
    {
      "cell_type": "code",
      "metadata": {
        "colab": {
          "base_uri": "https://localhost:8080/"
        },
        "id": "_rSH7BZNyYC9",
        "outputId": "38b4f251-4b78-44bd-a682-976dee0c37e5"
      },
      "source": [
        "df3['X0'].value_counts().sort_values(ascending=False).head(10) # taking the Top 10 categories of feature X0"
      ],
      "execution_count": 61,
      "outputs": [
        {
          "output_type": "execute_result",
          "data": {
            "text/plain": [
              "z     360\n",
              "ak    349\n",
              "y     324\n",
              "ay    313\n",
              "t     306\n",
              "x     300\n",
              "o     269\n",
              "f     227\n",
              "n     195\n",
              "w     182\n",
              "Name: X0, dtype: int64"
            ]
          },
          "metadata": {
            "tags": []
          },
          "execution_count": 61
        }
      ]
    },
    {
      "cell_type": "code",
      "metadata": {
        "colab": {
          "base_uri": "https://localhost:8080/"
        },
        "id": "8ED8Acrs22yR",
        "outputId": "c0d131ee-7e7a-46ef-fd4d-48e15c223237"
      },
      "source": [
        "top_10 = df3['X0'].value_counts().sort_values(ascending=False).head(10).index\n",
        "top_10 = list(top_10)\n",
        "top_10"
      ],
      "execution_count": 62,
      "outputs": [
        {
          "output_type": "execute_result",
          "data": {
            "text/plain": [
              "['z', 'ak', 'y', 'ay', 't', 'x', 'o', 'f', 'n', 'w']"
            ]
          },
          "metadata": {
            "tags": []
          },
          "execution_count": 62
        }
      ]
    },
    {
      "cell_type": "code",
      "metadata": {
        "id": "-z8v0lCQ22un"
      },
      "source": [
        "# Apply one hot encoding to these Top 10 features\n",
        "for cats in top_10:\n",
        "    df3[cats] = np.where(df3['X0'] == cats, 1, 0)\n",
        "\n",
        "# Now we can drop 'X0' in replacement with these top 10 features, simimlarly do this for the remaining cat features X1..."
      ],
      "execution_count": 69,
      "outputs": []
    },
    {
      "cell_type": "markdown",
      "metadata": {
        "id": "JhbmMV_5BEz-"
      },
      "source": [
        "####3) Ordinal Number Encoding\n",
        "\n",
        "        Here we assign ranks (Grading System)."
      ]
    },
    {
      "cell_type": "code",
      "metadata": {
        "id": "5WARarKa22rx"
      },
      "source": [
        "rankings = {\n",
        "    'Monday': 0,\n",
        "    'Tuesday': 1,\n",
        "    'Wednesday': 2,\n",
        "    'Thursday': 3,\n",
        "    'Friday': 4,\n",
        "    'Saturday': 5,\n",
        "    'Sunday': 6\n",
        "}\n",
        "\n",
        "df4['ranked_feature'] = df4['weekday'].map(rankings)"
      ],
      "execution_count": null,
      "outputs": []
    },
    {
      "cell_type": "markdown",
      "metadata": {
        "id": "FcAX69EIIefx"
      },
      "source": [
        "####4) Count or Frequency Encoding\n",
        "\n",
        "        Advantages :=\n",
        "        1) Easy to use.\n",
        "        2) Not increasing any feature space.\n",
        "        Disadvantage :=\n",
        "        1) It will provide same weight if the frequencies are same."
      ]
    },
    {
      "cell_type": "code",
      "metadata": {
        "id": "pJHyxSkY22pd"
      },
      "source": [
        "# for example :\n",
        "\n",
        "country_map = df4['Country'].value_counts().to_dict()\n",
        "\n",
        "country_map = {\n",
        "    'USA': 10000,\n",
        "    'India': 2000,\n",
        "    'Australia': 150,\n",
        "    'China': 10,\n",
        "    'Japan': 100,\n",
        "    'Russia': 500\n",
        "}\n",
        "\n",
        "df4['Country'] = df4['Country'].map(country_map)"
      ],
      "execution_count": null,
      "outputs": []
    },
    {
      "cell_type": "markdown",
      "metadata": {
        "id": "E2RvImobOYW3"
      },
      "source": [
        "####5) Target guided ordinal encoding\n",
        "\n",
        "        -> We will be ordering the labels according to the target.\n",
        "        -> We may replace the labels by the joint probability of being 1 and 0."
      ]
    },
    {
      "cell_type": "code",
      "metadata": {
        "colab": {
          "base_uri": "https://localhost:8080/",
          "height": 206
        },
        "id": "dgRV47tHX9nf",
        "outputId": "0393b990-88ce-439a-f98a-1fa7053215be"
      },
      "source": [
        "df5 = pd.read_csv(\"/content/titanic.csv\", usecols=['Cabin', 'Survived'])\n",
        "df5.head()"
      ],
      "execution_count": 22,
      "outputs": [
        {
          "output_type": "execute_result",
          "data": {
            "text/html": [
              "<div>\n",
              "<style scoped>\n",
              "    .dataframe tbody tr th:only-of-type {\n",
              "        vertical-align: middle;\n",
              "    }\n",
              "\n",
              "    .dataframe tbody tr th {\n",
              "        vertical-align: top;\n",
              "    }\n",
              "\n",
              "    .dataframe thead th {\n",
              "        text-align: right;\n",
              "    }\n",
              "</style>\n",
              "<table border=\"1\" class=\"dataframe\">\n",
              "  <thead>\n",
              "    <tr style=\"text-align: right;\">\n",
              "      <th></th>\n",
              "      <th>Survived</th>\n",
              "      <th>Cabin</th>\n",
              "    </tr>\n",
              "  </thead>\n",
              "  <tbody>\n",
              "    <tr>\n",
              "      <th>0</th>\n",
              "      <td>0</td>\n",
              "      <td>NaN</td>\n",
              "    </tr>\n",
              "    <tr>\n",
              "      <th>1</th>\n",
              "      <td>1</td>\n",
              "      <td>C85</td>\n",
              "    </tr>\n",
              "    <tr>\n",
              "      <th>2</th>\n",
              "      <td>1</td>\n",
              "      <td>NaN</td>\n",
              "    </tr>\n",
              "    <tr>\n",
              "      <th>3</th>\n",
              "      <td>1</td>\n",
              "      <td>C123</td>\n",
              "    </tr>\n",
              "    <tr>\n",
              "      <th>4</th>\n",
              "      <td>0</td>\n",
              "      <td>NaN</td>\n",
              "    </tr>\n",
              "  </tbody>\n",
              "</table>\n",
              "</div>"
            ],
            "text/plain": [
              "   Survived Cabin\n",
              "0         0   NaN\n",
              "1         1   C85\n",
              "2         1   NaN\n",
              "3         1  C123\n",
              "4         0   NaN"
            ]
          },
          "metadata": {
            "tags": []
          },
          "execution_count": 22
        }
      ]
    },
    {
      "cell_type": "code",
      "metadata": {
        "id": "o1ecgvfKX9Qk"
      },
      "source": [
        "df5['Cabin'].fillna('Missing', inplace=True)"
      ],
      "execution_count": 24,
      "outputs": []
    },
    {
      "cell_type": "code",
      "metadata": {
        "id": "aT5qD21CYjVe"
      },
      "source": [
        "df5['Cabin'] = df5['Cabin'].astype(str).str[0]"
      ],
      "execution_count": 25,
      "outputs": []
    },
    {
      "cell_type": "code",
      "metadata": {
        "colab": {
          "base_uri": "https://localhost:8080/",
          "height": 206
        },
        "id": "4NoYkayXYjRX",
        "outputId": "4842db49-f77b-4258-d574-181ee285a731"
      },
      "source": [
        "df5.head()"
      ],
      "execution_count": 8,
      "outputs": [
        {
          "output_type": "execute_result",
          "data": {
            "text/html": [
              "<div>\n",
              "<style scoped>\n",
              "    .dataframe tbody tr th:only-of-type {\n",
              "        vertical-align: middle;\n",
              "    }\n",
              "\n",
              "    .dataframe tbody tr th {\n",
              "        vertical-align: top;\n",
              "    }\n",
              "\n",
              "    .dataframe thead th {\n",
              "        text-align: right;\n",
              "    }\n",
              "</style>\n",
              "<table border=\"1\" class=\"dataframe\">\n",
              "  <thead>\n",
              "    <tr style=\"text-align: right;\">\n",
              "      <th></th>\n",
              "      <th>Survived</th>\n",
              "      <th>Cabin</th>\n",
              "    </tr>\n",
              "  </thead>\n",
              "  <tbody>\n",
              "    <tr>\n",
              "      <th>0</th>\n",
              "      <td>0</td>\n",
              "      <td>M</td>\n",
              "    </tr>\n",
              "    <tr>\n",
              "      <th>1</th>\n",
              "      <td>1</td>\n",
              "      <td>C</td>\n",
              "    </tr>\n",
              "    <tr>\n",
              "      <th>2</th>\n",
              "      <td>1</td>\n",
              "      <td>M</td>\n",
              "    </tr>\n",
              "    <tr>\n",
              "      <th>3</th>\n",
              "      <td>1</td>\n",
              "      <td>C</td>\n",
              "    </tr>\n",
              "    <tr>\n",
              "      <th>4</th>\n",
              "      <td>0</td>\n",
              "      <td>M</td>\n",
              "    </tr>\n",
              "  </tbody>\n",
              "</table>\n",
              "</div>"
            ],
            "text/plain": [
              "   Survived Cabin\n",
              "0         0     M\n",
              "1         1     C\n",
              "2         1     M\n",
              "3         1     C\n",
              "4         0     M"
            ]
          },
          "metadata": {
            "tags": []
          },
          "execution_count": 8
        }
      ]
    },
    {
      "cell_type": "code",
      "metadata": {
        "colab": {
          "base_uri": "https://localhost:8080/"
        },
        "id": "ZDffEad7YjO9",
        "outputId": "5557aa4e-07ea-4f99-a3d4-db89c52bb37b"
      },
      "source": [
        "df5['Cabin'].unique()"
      ],
      "execution_count": 9,
      "outputs": [
        {
          "output_type": "execute_result",
          "data": {
            "text/plain": [
              "array(['M', 'C', 'E', 'G', 'D', 'A', 'B', 'F', 'T'], dtype=object)"
            ]
          },
          "metadata": {
            "tags": []
          },
          "execution_count": 9
        }
      ]
    },
    {
      "cell_type": "code",
      "metadata": {
        "colab": {
          "base_uri": "https://localhost:8080/"
        },
        "id": "rxhzXfHNcBcM",
        "outputId": "5ebb2d79-1880-4c29-ffa8-2b84a31ac729"
      },
      "source": [
        "df5.groupby(['Cabin'])['Survived'].mean().sort_values()"
      ],
      "execution_count": 14,
      "outputs": [
        {
          "output_type": "execute_result",
          "data": {
            "text/plain": [
              "Cabin\n",
              "T    0.000000\n",
              "M    0.299854\n",
              "A    0.466667\n",
              "G    0.500000\n",
              "C    0.593220\n",
              "F    0.615385\n",
              "B    0.744681\n",
              "E    0.750000\n",
              "D    0.757576\n",
              "Name: Survived, dtype: float64"
            ]
          },
          "metadata": {
            "tags": []
          },
          "execution_count": 14
        }
      ]
    },
    {
      "cell_type": "code",
      "metadata": {
        "colab": {
          "base_uri": "https://localhost:8080/"
        },
        "id": "_6-nGjLUbqwz",
        "outputId": "57a71c36-d679-4681-fdcf-addc3c7908ac"
      },
      "source": [
        "ordinal_labels = df5.groupby(['Cabin'])['Survived'].mean().sort_values().index\n",
        "ordinal_labels"
      ],
      "execution_count": 10,
      "outputs": [
        {
          "output_type": "execute_result",
          "data": {
            "text/plain": [
              "Index(['T', 'M', 'A', 'G', 'C', 'F', 'B', 'E', 'D'], dtype='object', name='Cabin')"
            ]
          },
          "metadata": {
            "tags": []
          },
          "execution_count": 10
        }
      ]
    },
    {
      "cell_type": "code",
      "metadata": {
        "colab": {
          "base_uri": "https://localhost:8080/"
        },
        "id": "NF_dpN39bqsP",
        "outputId": "f6cc4cfb-5be0-41bb-8909-2b6afb789aaf"
      },
      "source": [
        "ordinal_labels_mapping = {v:i for i,v in enumerate(ordinal_labels)}\n",
        "ordinal_labels_mapping"
      ],
      "execution_count": 17,
      "outputs": [
        {
          "output_type": "execute_result",
          "data": {
            "text/plain": [
              "{'A': 2, 'B': 6, 'C': 4, 'D': 8, 'E': 7, 'F': 5, 'G': 3, 'M': 1, 'T': 0}"
            ]
          },
          "metadata": {
            "tags": []
          },
          "execution_count": 17
        }
      ]
    },
    {
      "cell_type": "code",
      "metadata": {
        "colab": {
          "base_uri": "https://localhost:8080/",
          "height": 206
        },
        "id": "9XXSWB1Sc1YM",
        "outputId": "565b7639-f53a-4e77-ab94-b20818c88386"
      },
      "source": [
        "df5['Cabin_ordinal'] = df5['Cabin'].map(ordinal_labels_mapping)\n",
        "df5.head()"
      ],
      "execution_count": 18,
      "outputs": [
        {
          "output_type": "execute_result",
          "data": {
            "text/html": [
              "<div>\n",
              "<style scoped>\n",
              "    .dataframe tbody tr th:only-of-type {\n",
              "        vertical-align: middle;\n",
              "    }\n",
              "\n",
              "    .dataframe tbody tr th {\n",
              "        vertical-align: top;\n",
              "    }\n",
              "\n",
              "    .dataframe thead th {\n",
              "        text-align: right;\n",
              "    }\n",
              "</style>\n",
              "<table border=\"1\" class=\"dataframe\">\n",
              "  <thead>\n",
              "    <tr style=\"text-align: right;\">\n",
              "      <th></th>\n",
              "      <th>Survived</th>\n",
              "      <th>Cabin</th>\n",
              "      <th>Cabin_ordinal</th>\n",
              "    </tr>\n",
              "  </thead>\n",
              "  <tbody>\n",
              "    <tr>\n",
              "      <th>0</th>\n",
              "      <td>0</td>\n",
              "      <td>M</td>\n",
              "      <td>1</td>\n",
              "    </tr>\n",
              "    <tr>\n",
              "      <th>1</th>\n",
              "      <td>1</td>\n",
              "      <td>C</td>\n",
              "      <td>4</td>\n",
              "    </tr>\n",
              "    <tr>\n",
              "      <th>2</th>\n",
              "      <td>1</td>\n",
              "      <td>M</td>\n",
              "      <td>1</td>\n",
              "    </tr>\n",
              "    <tr>\n",
              "      <th>3</th>\n",
              "      <td>1</td>\n",
              "      <td>C</td>\n",
              "      <td>4</td>\n",
              "    </tr>\n",
              "    <tr>\n",
              "      <th>4</th>\n",
              "      <td>0</td>\n",
              "      <td>M</td>\n",
              "      <td>1</td>\n",
              "    </tr>\n",
              "  </tbody>\n",
              "</table>\n",
              "</div>"
            ],
            "text/plain": [
              "   Survived Cabin  Cabin_ordinal\n",
              "0         0     M              1\n",
              "1         1     C              4\n",
              "2         1     M              1\n",
              "3         1     C              4\n",
              "4         0     M              1"
            ]
          },
          "metadata": {
            "tags": []
          },
          "execution_count": 18
        }
      ]
    },
    {
      "cell_type": "code",
      "metadata": {
        "id": "nrDTw2JBc9Xi"
      },
      "source": [
        "df5.drop(['Cabin'], axis=1, inplace=True)"
      ],
      "execution_count": 19,
      "outputs": []
    },
    {
      "cell_type": "markdown",
      "metadata": {
        "id": "lj7H2cOQePlk"
      },
      "source": [
        "####6) Mean Encoding"
      ]
    },
    {
      "cell_type": "code",
      "metadata": {
        "colab": {
          "base_uri": "https://localhost:8080/"
        },
        "id": "g5OzkztEeR_g",
        "outputId": "2c4077f3-2945-4a76-b25e-f60e2e9a8464"
      },
      "source": [
        "mean_ordinal_map = df5.groupby(['Cabin'])['Survived'].mean().to_dict()\n",
        "mean_ordinal_map"
      ],
      "execution_count": 27,
      "outputs": [
        {
          "output_type": "execute_result",
          "data": {
            "text/plain": [
              "{'A': 0.4666666666666667,\n",
              " 'B': 0.7446808510638298,\n",
              " 'C': 0.5932203389830508,\n",
              " 'D': 0.7575757575757576,\n",
              " 'E': 0.75,\n",
              " 'F': 0.6153846153846154,\n",
              " 'G': 0.5,\n",
              " 'M': 0.29985443959243085,\n",
              " 'T': 0.0}"
            ]
          },
          "metadata": {
            "tags": []
          },
          "execution_count": 27
        }
      ]
    },
    {
      "cell_type": "code",
      "metadata": {
        "colab": {
          "base_uri": "https://localhost:8080/",
          "height": 206
        },
        "id": "CyQYYn0geR7K",
        "outputId": "377a2696-485e-438f-eda9-f977042d1f2f"
      },
      "source": [
        "df5['mean_cabin'] = df5['Cabin'].map(mean_ordinal_map)\n",
        "df5.head()"
      ],
      "execution_count": 28,
      "outputs": [
        {
          "output_type": "execute_result",
          "data": {
            "text/html": [
              "<div>\n",
              "<style scoped>\n",
              "    .dataframe tbody tr th:only-of-type {\n",
              "        vertical-align: middle;\n",
              "    }\n",
              "\n",
              "    .dataframe tbody tr th {\n",
              "        vertical-align: top;\n",
              "    }\n",
              "\n",
              "    .dataframe thead th {\n",
              "        text-align: right;\n",
              "    }\n",
              "</style>\n",
              "<table border=\"1\" class=\"dataframe\">\n",
              "  <thead>\n",
              "    <tr style=\"text-align: right;\">\n",
              "      <th></th>\n",
              "      <th>Survived</th>\n",
              "      <th>Cabin</th>\n",
              "      <th>mean_cabin</th>\n",
              "    </tr>\n",
              "  </thead>\n",
              "  <tbody>\n",
              "    <tr>\n",
              "      <th>0</th>\n",
              "      <td>0</td>\n",
              "      <td>M</td>\n",
              "      <td>0.299854</td>\n",
              "    </tr>\n",
              "    <tr>\n",
              "      <th>1</th>\n",
              "      <td>1</td>\n",
              "      <td>C</td>\n",
              "      <td>0.593220</td>\n",
              "    </tr>\n",
              "    <tr>\n",
              "      <th>2</th>\n",
              "      <td>1</td>\n",
              "      <td>M</td>\n",
              "      <td>0.299854</td>\n",
              "    </tr>\n",
              "    <tr>\n",
              "      <th>3</th>\n",
              "      <td>1</td>\n",
              "      <td>C</td>\n",
              "      <td>0.593220</td>\n",
              "    </tr>\n",
              "    <tr>\n",
              "      <th>4</th>\n",
              "      <td>0</td>\n",
              "      <td>M</td>\n",
              "      <td>0.299854</td>\n",
              "    </tr>\n",
              "  </tbody>\n",
              "</table>\n",
              "</div>"
            ],
            "text/plain": [
              "   Survived Cabin  mean_cabin\n",
              "0         0     M    0.299854\n",
              "1         1     C    0.593220\n",
              "2         1     M    0.299854\n",
              "3         1     C    0.593220\n",
              "4         0     M    0.299854"
            ]
          },
          "metadata": {
            "tags": []
          },
          "execution_count": 28
        }
      ]
    },
    {
      "cell_type": "markdown",
      "metadata": {
        "id": "DLjE9T2as0ds"
      },
      "source": [
        "####ALL STANDARDIZATION, NORMALIZATION AND TRANSFORMATION TECHNIQUES\n",
        "\n",
        "    These techniques are required because it helps the algorithm to reach global minima easily by \n",
        "    scaling down the values to similar range.\n",
        "    Some of the ML Algorithms uses Standardization and Normalization like LR, NNs, SVM, KNN etc but not all like DT, RF, Xgboost.\n",
        "\n",
        "    Techinques :=\n",
        "    1) Normalization and Standardization.\n",
        "    2) Scaling to Minimum and Maximum values.\n",
        "    3) Scaling to Median and Quantiles.\n",
        "    Transformations :=\n",
        "    Gaussian Transformation\n",
        "    1) Logarithmic Transformation\n",
        "    2) Reciprocal Transformation\n",
        "    3) Square Root Transformation\n",
        "    4) Exponential Transformation\n",
        "    5) Box Cox Transformation\n",
        "    "
      ]
    },
    {
      "cell_type": "code",
      "metadata": {
        "colab": {
          "base_uri": "https://localhost:8080/",
          "height": 206
        },
        "id": "UDh5Yp7uwzq-",
        "outputId": "ac3b5510-e175-4950-8762-1c9833bb8b0e"
      },
      "source": [
        "df = pd.read_csv(\"/content/titanic.csv\", usecols=['Pclass', 'Age', 'Fare', 'Survived'])\n",
        "df.head()"
      ],
      "execution_count": 2,
      "outputs": [
        {
          "output_type": "execute_result",
          "data": {
            "text/html": [
              "<div>\n",
              "<style scoped>\n",
              "    .dataframe tbody tr th:only-of-type {\n",
              "        vertical-align: middle;\n",
              "    }\n",
              "\n",
              "    .dataframe tbody tr th {\n",
              "        vertical-align: top;\n",
              "    }\n",
              "\n",
              "    .dataframe thead th {\n",
              "        text-align: right;\n",
              "    }\n",
              "</style>\n",
              "<table border=\"1\" class=\"dataframe\">\n",
              "  <thead>\n",
              "    <tr style=\"text-align: right;\">\n",
              "      <th></th>\n",
              "      <th>Survived</th>\n",
              "      <th>Pclass</th>\n",
              "      <th>Age</th>\n",
              "      <th>Fare</th>\n",
              "    </tr>\n",
              "  </thead>\n",
              "  <tbody>\n",
              "    <tr>\n",
              "      <th>0</th>\n",
              "      <td>0</td>\n",
              "      <td>3</td>\n",
              "      <td>22.0</td>\n",
              "      <td>7.2500</td>\n",
              "    </tr>\n",
              "    <tr>\n",
              "      <th>1</th>\n",
              "      <td>1</td>\n",
              "      <td>1</td>\n",
              "      <td>38.0</td>\n",
              "      <td>71.2833</td>\n",
              "    </tr>\n",
              "    <tr>\n",
              "      <th>2</th>\n",
              "      <td>1</td>\n",
              "      <td>3</td>\n",
              "      <td>26.0</td>\n",
              "      <td>7.9250</td>\n",
              "    </tr>\n",
              "    <tr>\n",
              "      <th>3</th>\n",
              "      <td>1</td>\n",
              "      <td>1</td>\n",
              "      <td>35.0</td>\n",
              "      <td>53.1000</td>\n",
              "    </tr>\n",
              "    <tr>\n",
              "      <th>4</th>\n",
              "      <td>0</td>\n",
              "      <td>3</td>\n",
              "      <td>35.0</td>\n",
              "      <td>8.0500</td>\n",
              "    </tr>\n",
              "  </tbody>\n",
              "</table>\n",
              "</div>"
            ],
            "text/plain": [
              "   Survived  Pclass   Age     Fare\n",
              "0         0       3  22.0   7.2500\n",
              "1         1       1  38.0  71.2833\n",
              "2         1       3  26.0   7.9250\n",
              "3         1       1  35.0  53.1000\n",
              "4         0       3  35.0   8.0500"
            ]
          },
          "metadata": {
            "tags": []
          },
          "execution_count": 2
        }
      ]
    },
    {
      "cell_type": "code",
      "metadata": {
        "id": "3dEws_r6wznT"
      },
      "source": [
        "df['Age'].fillna(df['Age'].median(), inplace=True)"
      ],
      "execution_count": 3,
      "outputs": []
    },
    {
      "cell_type": "code",
      "metadata": {
        "colab": {
          "base_uri": "https://localhost:8080/"
        },
        "id": "F17uLo8_wzk9",
        "outputId": "24810994-279e-4b49-8e82-33f6f7eea856"
      },
      "source": [
        "df.isnull().sum() "
      ],
      "execution_count": 4,
      "outputs": [
        {
          "output_type": "execute_result",
          "data": {
            "text/plain": [
              "Survived    0\n",
              "Pclass      0\n",
              "Age         0\n",
              "Fare        0\n",
              "dtype: int64"
            ]
          },
          "metadata": {
            "tags": []
          },
          "execution_count": 4
        }
      ]
    },
    {
      "cell_type": "code",
      "metadata": {
        "id": "kq20lSJS1qqx"
      },
      "source": [
        "X = df.iloc[:, 1:]\n",
        "y = df['Survived']"
      ],
      "execution_count": null,
      "outputs": []
    },
    {
      "cell_type": "markdown",
      "metadata": {
        "id": "fYb-YgFJxnFQ"
      },
      "source": [
        "####1) Standardization (Works well with ML Algorithms)\n",
        "    This means centering the variable at zero. (mean=0, SD=1)\n",
        "    Z = (X-X_mean)/SD. (It applies on each Feature not row)"
      ]
    },
    {
      "cell_type": "code",
      "metadata": {
        "id": "MVtFCn8EwziJ"
      },
      "source": [
        "from sklearn.preprocessing import StandardScaler"
      ],
      "execution_count": 6,
      "outputs": []
    },
    {
      "cell_type": "code",
      "metadata": {
        "colab": {
          "base_uri": "https://localhost:8080/",
          "height": 206
        },
        "id": "p8FD6M6IxU6c",
        "outputId": "591a9238-d7ac-4057-ea76-41e437e39761"
      },
      "source": [
        "scalar = StandardScaler()\n",
        "df_scaled = scalar.fit_transform(X)\n",
        "df_scaled = pd.DataFrame(df_scaled, columns=X.columns)\n",
        "df_scaled.head()"
      ],
      "execution_count": 29,
      "outputs": [
        {
          "output_type": "execute_result",
          "data": {
            "text/html": [
              "<div>\n",
              "<style scoped>\n",
              "    .dataframe tbody tr th:only-of-type {\n",
              "        vertical-align: middle;\n",
              "    }\n",
              "\n",
              "    .dataframe tbody tr th {\n",
              "        vertical-align: top;\n",
              "    }\n",
              "\n",
              "    .dataframe thead th {\n",
              "        text-align: right;\n",
              "    }\n",
              "</style>\n",
              "<table border=\"1\" class=\"dataframe\">\n",
              "  <thead>\n",
              "    <tr style=\"text-align: right;\">\n",
              "      <th></th>\n",
              "      <th>Pclass</th>\n",
              "      <th>Age</th>\n",
              "      <th>Fare</th>\n",
              "    </tr>\n",
              "  </thead>\n",
              "  <tbody>\n",
              "    <tr>\n",
              "      <th>0</th>\n",
              "      <td>0.827377</td>\n",
              "      <td>-0.565736</td>\n",
              "      <td>-0.502445</td>\n",
              "    </tr>\n",
              "    <tr>\n",
              "      <th>1</th>\n",
              "      <td>-1.566107</td>\n",
              "      <td>0.663861</td>\n",
              "      <td>0.786845</td>\n",
              "    </tr>\n",
              "    <tr>\n",
              "      <th>2</th>\n",
              "      <td>0.827377</td>\n",
              "      <td>-0.258337</td>\n",
              "      <td>-0.488854</td>\n",
              "    </tr>\n",
              "    <tr>\n",
              "      <th>3</th>\n",
              "      <td>-1.566107</td>\n",
              "      <td>0.433312</td>\n",
              "      <td>0.420730</td>\n",
              "    </tr>\n",
              "    <tr>\n",
              "      <th>4</th>\n",
              "      <td>0.827377</td>\n",
              "      <td>0.433312</td>\n",
              "      <td>-0.486337</td>\n",
              "    </tr>\n",
              "  </tbody>\n",
              "</table>\n",
              "</div>"
            ],
            "text/plain": [
              "     Pclass       Age      Fare\n",
              "0  0.827377 -0.565736 -0.502445\n",
              "1 -1.566107  0.663861  0.786845\n",
              "2  0.827377 -0.258337 -0.488854\n",
              "3 -1.566107  0.433312  0.420730\n",
              "4  0.827377  0.433312 -0.486337"
            ]
          },
          "metadata": {
            "tags": []
          },
          "execution_count": 29
        }
      ]
    },
    {
      "cell_type": "markdown",
      "metadata": {
        "id": "iHOdtHIbznzH"
      },
      "source": [
        "####2) Normalization (Works well with DNNs)\n",
        "    It scales the values between 0 to 1.\n",
        "    X_scaled = (X-X_min)/(X_max-X_min)"
      ]
    },
    {
      "cell_type": "code",
      "metadata": {
        "id": "Mv1bAx_QxU2E"
      },
      "source": [
        "from sklearn.preprocessing import MinMaxScaler"
      ],
      "execution_count": 8,
      "outputs": []
    },
    {
      "cell_type": "code",
      "metadata": {
        "colab": {
          "base_uri": "https://localhost:8080/",
          "height": 206
        },
        "id": "eVOrXmk60MHI",
        "outputId": "7ce3fe38-4619-4dab-c6d1-eaf7b1145174"
      },
      "source": [
        "minMax = MinMaxScaler()\n",
        "df_minMax = minMax.fit_transform(X)\n",
        "df_minMax = pd.DataFrame(df_minMax, columns=X.columns)\n",
        "df_minMax.head()"
      ],
      "execution_count": 30,
      "outputs": [
        {
          "output_type": "execute_result",
          "data": {
            "text/html": [
              "<div>\n",
              "<style scoped>\n",
              "    .dataframe tbody tr th:only-of-type {\n",
              "        vertical-align: middle;\n",
              "    }\n",
              "\n",
              "    .dataframe tbody tr th {\n",
              "        vertical-align: top;\n",
              "    }\n",
              "\n",
              "    .dataframe thead th {\n",
              "        text-align: right;\n",
              "    }\n",
              "</style>\n",
              "<table border=\"1\" class=\"dataframe\">\n",
              "  <thead>\n",
              "    <tr style=\"text-align: right;\">\n",
              "      <th></th>\n",
              "      <th>Pclass</th>\n",
              "      <th>Age</th>\n",
              "      <th>Fare</th>\n",
              "    </tr>\n",
              "  </thead>\n",
              "  <tbody>\n",
              "    <tr>\n",
              "      <th>0</th>\n",
              "      <td>1.0</td>\n",
              "      <td>0.271174</td>\n",
              "      <td>0.014151</td>\n",
              "    </tr>\n",
              "    <tr>\n",
              "      <th>1</th>\n",
              "      <td>0.0</td>\n",
              "      <td>0.472229</td>\n",
              "      <td>0.139136</td>\n",
              "    </tr>\n",
              "    <tr>\n",
              "      <th>2</th>\n",
              "      <td>1.0</td>\n",
              "      <td>0.321438</td>\n",
              "      <td>0.015469</td>\n",
              "    </tr>\n",
              "    <tr>\n",
              "      <th>3</th>\n",
              "      <td>0.0</td>\n",
              "      <td>0.434531</td>\n",
              "      <td>0.103644</td>\n",
              "    </tr>\n",
              "    <tr>\n",
              "      <th>4</th>\n",
              "      <td>1.0</td>\n",
              "      <td>0.434531</td>\n",
              "      <td>0.015713</td>\n",
              "    </tr>\n",
              "  </tbody>\n",
              "</table>\n",
              "</div>"
            ],
            "text/plain": [
              "   Pclass       Age      Fare\n",
              "0     1.0  0.271174  0.014151\n",
              "1     0.0  0.472229  0.139136\n",
              "2     1.0  0.321438  0.015469\n",
              "3     0.0  0.434531  0.103644\n",
              "4     1.0  0.434531  0.015713"
            ]
          },
          "metadata": {
            "tags": []
          },
          "execution_count": 30
        }
      ]
    },
    {
      "cell_type": "markdown",
      "metadata": {
        "id": "2y8XcULh2Kpk"
      },
      "source": [
        "####3) Robust Scaler\n",
        "    Used to scale the features to Median and Quantiles.\n",
        "    Scaling using median and quantiles consists of substracting the median to all the observations\n",
        "    and then dividing by the interquantile difference. \n",
        "    The interquantile difference is the difference between the 75th and 25th quantile.\n",
        "\n",
        "    It is robust to outliers.\n",
        "\n",
        "    IQR = 75th quantile - 25th quantile\n",
        "    X_scaled = (X-X_median)/IQR\n",
        "\n",
        "    For ex: 0,1,2,3,4,5,6,7,8,9,10\n",
        "    9 -> 90 percentile => 90% of all values in this group is less than 9.\n",
        "    1 -> 10 percentile => 10% of all values in this group is less than 1."
      ]
    },
    {
      "cell_type": "code",
      "metadata": {
        "id": "6UMxlcbi0MDx"
      },
      "source": [
        "from sklearn.preprocessing import RobustScaler"
      ],
      "execution_count": 31,
      "outputs": []
    },
    {
      "cell_type": "code",
      "metadata": {
        "colab": {
          "base_uri": "https://localhost:8080/",
          "height": 206
        },
        "id": "25n6-bTp0MBJ",
        "outputId": "c99464b5-cf91-4ea5-8fe0-48ab68e6a638"
      },
      "source": [
        "scaler = RobustScaler()\n",
        "df_robust_scaler = scaler.fit_transform(X)\n",
        "df_robust_scaler = pd.DataFrame(df_robust_scaler, columns=X.columns)\n",
        "df_robust_scaler.head()"
      ],
      "execution_count": 32,
      "outputs": [
        {
          "output_type": "execute_result",
          "data": {
            "text/html": [
              "<div>\n",
              "<style scoped>\n",
              "    .dataframe tbody tr th:only-of-type {\n",
              "        vertical-align: middle;\n",
              "    }\n",
              "\n",
              "    .dataframe tbody tr th {\n",
              "        vertical-align: top;\n",
              "    }\n",
              "\n",
              "    .dataframe thead th {\n",
              "        text-align: right;\n",
              "    }\n",
              "</style>\n",
              "<table border=\"1\" class=\"dataframe\">\n",
              "  <thead>\n",
              "    <tr style=\"text-align: right;\">\n",
              "      <th></th>\n",
              "      <th>Pclass</th>\n",
              "      <th>Age</th>\n",
              "      <th>Fare</th>\n",
              "    </tr>\n",
              "  </thead>\n",
              "  <tbody>\n",
              "    <tr>\n",
              "      <th>0</th>\n",
              "      <td>0.0</td>\n",
              "      <td>-0.461538</td>\n",
              "      <td>-0.312011</td>\n",
              "    </tr>\n",
              "    <tr>\n",
              "      <th>1</th>\n",
              "      <td>-2.0</td>\n",
              "      <td>0.769231</td>\n",
              "      <td>2.461242</td>\n",
              "    </tr>\n",
              "    <tr>\n",
              "      <th>2</th>\n",
              "      <td>0.0</td>\n",
              "      <td>-0.153846</td>\n",
              "      <td>-0.282777</td>\n",
              "    </tr>\n",
              "    <tr>\n",
              "      <th>3</th>\n",
              "      <td>-2.0</td>\n",
              "      <td>0.538462</td>\n",
              "      <td>1.673732</td>\n",
              "    </tr>\n",
              "    <tr>\n",
              "      <th>4</th>\n",
              "      <td>0.0</td>\n",
              "      <td>0.538462</td>\n",
              "      <td>-0.277363</td>\n",
              "    </tr>\n",
              "  </tbody>\n",
              "</table>\n",
              "</div>"
            ],
            "text/plain": [
              "   Pclass       Age      Fare\n",
              "0     0.0 -0.461538 -0.312011\n",
              "1    -2.0  0.769231  2.461242\n",
              "2     0.0 -0.153846 -0.282777\n",
              "3    -2.0  0.538462  1.673732\n",
              "4     0.0  0.538462 -0.277363"
            ]
          },
          "metadata": {
            "tags": []
          },
          "execution_count": 32
        }
      ]
    },
    {
      "cell_type": "markdown",
      "metadata": {
        "id": "Zqf6RMEU5GB2"
      },
      "source": [
        "####4) Gaussian/Normal Transformation\n",
        "    Some ML Models like LR, LR assume that the features are normally distributed.\n",
        "    If our data is NOT Normally/Gaussian distributed, then we can apply the mentioned \n",
        "    5 transformations on our data to make it Normally distributed.\n",
        "    And then we may/may not apply standardization/normalization. And finally apply ML Algo.\n",
        "\n",
        "    If we want to check whether a feature is normally distributed, we use Q-Q Plot."
      ]
    },
    {
      "cell_type": "code",
      "metadata": {
        "colab": {
          "base_uri": "https://localhost:8080/",
          "height": 404
        },
        "id": "xTzIahHD7IxD",
        "outputId": "210aa10a-5f5f-4863-8c5c-978fdd112af4"
      },
      "source": [
        "import scipy.stats as stat\n",
        "import pylab\n",
        "\n",
        "def plot_data(df, feature):\n",
        "    plt.figure(figsize=(10, 6))\n",
        "    plt.subplot(1, 2, 1)\n",
        "    df[feature].hist()\n",
        "    plt.subplot(1, 2, 2)\n",
        "    stat.probplot(df[feature], dist='norm', plot=pylab)\n",
        "    plt.show()\n",
        "\n",
        "plot_data(df, 'Age')\n",
        "\n",
        "# As all the points are falling in the same line, so yeah it is normally distributed."
      ],
      "execution_count": 34,
      "outputs": [
        {
          "output_type": "display_data",
          "data": {
            "image/png": "[encoded data removed]",
            "text/plain": [
              "<Figure size 720x432 with 2 Axes>"
            ]
          },
          "metadata": {
            "tags": [],
            "needs_background": "light"
          }
        }
      ]
    },
    {
      "cell_type": "markdown",
      "metadata": {
        "id": "MNbhfrjz5lTi"
      },
      "source": [
        "a) Logarithmic Transformation\n",
        "\n",
        "    Works well when data is Right or Left Sqewed."
      ]
    },
    {
      "cell_type": "code",
      "metadata": {
        "colab": {
          "base_uri": "https://localhost:8080/",
          "height": 404
        },
        "id": "5PmPnF-Y0L9g",
        "outputId": "7ffd2565-c69e-440f-bf60-ae7041cd14c3"
      },
      "source": [
        "df['Age_log'] = np.log(df['Age'])\n",
        "plot_data(df, 'Age_log')"
      ],
      "execution_count": 35,
      "outputs": [
        {
          "output_type": "display_data",
          "data": {
            "image/png": "[encoded data removed]",
            "text/plain": [
              "<Figure size 720x432 with 2 Axes>"
            ]
          },
          "metadata": {
            "tags": [],
            "needs_background": "light"
          }
        }
      ]
    },
    {
      "cell_type": "markdown",
      "metadata": {
        "id": "oPFhyVUM9n-L"
      },
      "source": [
        "b) Reciprocal Transformation"
      ]
    },
    {
      "cell_type": "code",
      "metadata": {
        "colab": {
          "base_uri": "https://localhost:8080/",
          "height": 404
        },
        "id": "d4Un7gTj9SdS",
        "outputId": "92f26792-c470-4133-8eb3-a7e64269c0c0"
      },
      "source": [
        "df['Age_reciprocal'] = 1/df['Age']\n",
        "plot_data(df, 'Age_reciprocal')"
      ],
      "execution_count": 38,
      "outputs": [
        {
          "output_type": "display_data",
          "data": {
            "image/png": "[encoded data removed]",
            "text/plain": [
              "<Figure size 720x432 with 2 Axes>"
            ]
          },
          "metadata": {
            "tags": [],
            "needs_background": "light"
          }
        }
      ]
    },
    {
      "cell_type": "markdown",
      "metadata": {
        "id": "1SqXFmjW99LG"
      },
      "source": [
        "c) Square Root Transformation"
      ]
    },
    {
      "cell_type": "code",
      "metadata": {
        "colab": {
          "base_uri": "https://localhost:8080/",
          "height": 404
        },
        "id": "xjwfAPfK-AKO",
        "outputId": "425e3fba-29ba-4287-c757-458a5fbde1ad"
      },
      "source": [
        "df['Age_sq'] = df['Age']**(1/2)\n",
        "plot_data(df, 'Age_sq')"
      ],
      "execution_count": 39,
      "outputs": [
        {
          "output_type": "display_data",
          "data": {
            "image/png": "[encoded data removed]",
            "text/plain": [
              "<Figure size 720x432 with 2 Axes>"
            ]
          },
          "metadata": {
            "tags": [],
            "needs_background": "light"
          }
        }
      ]
    },
    {
      "cell_type": "markdown",
      "metadata": {
        "id": "tuykzGJP-QFs"
      },
      "source": [
        "d) Exponential Transformation"
      ]
    },
    {
      "cell_type": "code",
      "metadata": {
        "colab": {
          "base_uri": "https://localhost:8080/",
          "height": 404
        },
        "id": "5FA0fAoi-AF_",
        "outputId": "2137a143-3a93-4009-d2bd-549aa07073b0"
      },
      "source": [
        "df['Age_exp'] = df['Age']**(1/1.2)\n",
        "plot_data(df, 'Age_exp')"
      ],
      "execution_count": 40,
      "outputs": [
        {
          "output_type": "display_data",
          "data": {
            "image/png": "[encoded data removed]",
            "text/plain": [
              "<Figure size 720x432 with 2 Axes>"
            ]
          },
          "metadata": {
            "tags": [],
            "needs_background": "light"
          }
        }
      ]
    },
    {
      "cell_type": "markdown",
      "metadata": {
        "id": "kQW15MVc-qwY"
      },
      "source": [
        "e) Box Cox Transformation"
      ]
    },
    {
      "cell_type": "code",
      "metadata": {
        "colab": {
          "base_uri": "https://localhost:8080/",
          "height": 404
        },
        "id": "57qJgdoy-ADh",
        "outputId": "efdac72f-e6e1-4ab0-b7a0-2257c7662a6c"
      },
      "source": [
        "df['Age_bc'], params = stat.boxcox(df['Age'])\n",
        "plot_data(df, 'Age_bc')"
      ],
      "execution_count": 42,
      "outputs": [
        {
          "output_type": "display_data",
          "data": {
            "image/png": "[encoded data removed]",
            "text/plain": [
              "<Figure size 720x432 with 2 Axes>"
            ]
          },
          "metadata": {
            "tags": [],
            "needs_background": "light"
          }
        }
      ]
    },
    {
      "cell_type": "markdown",
      "metadata": {
        "id": "Ifo3zSjsC2Z6"
      },
      "source": [
        "###**Handling Imbalanced Dataset**"
      ]
    },
    {
      "cell_type": "code",
      "metadata": {
        "id": "wlekZxv39W8b"
      },
      "source": [
        "!pip install imbalanced-learn"
      ],
      "execution_count": null,
      "outputs": []
    },
    {
      "cell_type": "code",
      "metadata": {
        "colab": {
          "base_uri": "https://localhost:8080/"
        },
        "id": "Kso1PS89EQvV",
        "outputId": "3ba6939f-f6c8-45f3-a36b-787d06a22d9d"
      },
      "source": [
        "from google.colab import drive\n",
        "drive.mount('/content/MyDrive')"
      ],
      "execution_count": 48,
      "outputs": [
        {
          "output_type": "stream",
          "text": [
            "Mounted at /content/MyDrive\n"
          ],
          "name": "stdout"
        }
      ]
    },
    {
      "cell_type": "code",
      "metadata": {
        "colab": {
          "base_uri": "https://localhost:8080/"
        },
        "id": "-d_6ymGIEQq8",
        "outputId": "eee51a86-d0a5-4a61-aa94-b2077a3a09e5"
      },
      "source": [
        "df = pd.read_csv(\"/content/MyDrive/MyDrive/datasets/creditcard.csv\")\n",
        "df.shape"
      ],
      "execution_count": 49,
      "outputs": [
        {
          "output_type": "execute_result",
          "data": {
            "text/plain": [
              "(284807, 31)"
            ]
          },
          "metadata": {
            "tags": []
          },
          "execution_count": 49
        }
      ]
    },
    {
      "cell_type": "code",
      "metadata": {
        "colab": {
          "base_uri": "https://localhost:8080/"
        },
        "id": "GhD_EC-gEQos",
        "outputId": "7d9ad467-3f06-4929-8f5d-3421ea4e8366"
      },
      "source": [
        "df['Class'].value_counts()"
      ],
      "execution_count": 51,
      "outputs": [
        {
          "output_type": "execute_result",
          "data": {
            "text/plain": [
              "0    284315\n",
              "1       492\n",
              "Name: Class, dtype: int64"
            ]
          },
          "metadata": {
            "tags": []
          },
          "execution_count": 51
        }
      ]
    },
    {
      "cell_type": "code",
      "metadata": {
        "id": "5cRv_fA0EQmy"
      },
      "source": [
        "# Diving into independent and dependtent features.\n",
        "\n",
        "X = df.iloc[:, :-1]\n",
        "y = df['Class']"
      ],
      "execution_count": 54,
      "outputs": []
    },
    {
      "cell_type": "code",
      "metadata": {
        "id": "mH6mR_NEEQkj"
      },
      "source": [
        "from sklearn.linear_model import LogisticRegression\n",
        "from sklearn.ensemble import RandomForestClassifier\n",
        "from sklearn.metrics import accuracy_score, confusion_matrix, classification_report\n",
        "from sklearn.model_selection import KFold, GridSearchCV, train_test_split"
      ],
      "execution_count": 64,
      "outputs": []
    },
    {
      "cell_type": "markdown",
      "metadata": {
        "id": "meBT6tPPIyje"
      },
      "source": [
        "####Without applying any imbalance technique\n",
        "    When dataset is imbalanced, don't rely on accuracy metric, check precision, f1-score and recall."
      ]
    },
    {
      "cell_type": "code",
      "metadata": {
        "id": "VEIcTcpKIbfh"
      },
      "source": [
        "X_train, X_test, y_train, y_test = train_test_split(X, y, test_size=0.3)"
      ],
      "execution_count": 61,
      "outputs": []
    },
    {
      "cell_type": "code",
      "metadata": {
        "id": "SCvrwA2AEQiN"
      },
      "source": [
        "model1 = LogisticRegression()\n",
        "\n",
        "grid = {\n",
        "    'C': 10.0**np.arange(-2, 3),\n",
        "    'penalty': ['l1', 'l2']\n",
        "}\n",
        "\n",
        "cv = KFold(n_splits=5, random_state=None, shuffle=False)"
      ],
      "execution_count": 59,
      "outputs": []
    },
    {
      "cell_type": "code",
      "metadata": {
        "id": "1m3uDvffIYXD"
      },
      "source": [
        "clf = GridSearchCV(model1, grid, cv=cv, scoring='f1_macro', n_jobs=-1)\n",
        "clf.fit(X_train, y_train)"
      ],
      "execution_count": null,
      "outputs": []
    },
    {
      "cell_type": "code",
      "metadata": {
        "colab": {
          "base_uri": "https://localhost:8080/"
        },
        "id": "UxKlLCdYIYT6",
        "outputId": "3b27b855-c7b3-400f-f52f-b182f586c97f"
      },
      "source": [
        "y_preds = clf.predict(X_test)\n",
        "print(confusion_matrix(y_test, y_preds))\n",
        "print(accuracy_score(y_test, y_preds))\n",
        "print(classification_report(y_test, y_preds))"
      ],
      "execution_count": 63,
      "outputs": [
        {
          "output_type": "stream",
          "text": [
            "[[85248    30]\n",
            " [   52   113]]\n",
            "0.9990402958697612\n",
            "              precision    recall  f1-score   support\n",
            "\n",
            "           0       1.00      1.00      1.00     85278\n",
            "           1       0.79      0.68      0.73       165\n",
            "\n",
            "    accuracy                           1.00     85443\n",
            "   macro avg       0.89      0.84      0.87     85443\n",
            "weighted avg       1.00      1.00      1.00     85443\n",
            "\n"
          ],
          "name": "stdout"
        }
      ]
    },
    {
      "cell_type": "code",
      "metadata": {
        "colab": {
          "base_uri": "https://localhost:8080/"
        },
        "id": "UXTNWEUsIYRG",
        "outputId": "85b67a81-b9a9-464f-bb26-4ab125434992"
      },
      "source": [
        "class_weight = dict({0:1, 1:100})\n",
        "clf2 = RandomForestClassifier(class_weight=class_weight)\n",
        "clf2.fit(X_train, y_train)"
      ],
      "execution_count": 65,
      "outputs": [
        {
          "output_type": "execute_result",
          "data": {
            "text/plain": [
              "RandomForestClassifier(bootstrap=True, ccp_alpha=0.0, class_weight=None,\n",
              "                       criterion='gini', max_depth=None, max_features='auto',\n",
              "                       max_leaf_nodes=None, max_samples=None,\n",
              "                       min_impurity_decrease=0.0, min_impurity_split=None,\n",
              "                       min_samples_leaf=1, min_samples_split=2,\n",
              "                       min_weight_fraction_leaf=0.0, n_estimators=100,\n",
              "                       n_jobs=None, oob_score=False, random_state=None,\n",
              "                       verbose=0, warm_start=False)"
            ]
          },
          "metadata": {
            "tags": []
          },
          "execution_count": 65
        }
      ]
    },
    {
      "cell_type": "code",
      "metadata": {
        "colab": {
          "base_uri": "https://localhost:8080/"
        },
        "id": "qCQ-bYcrIYOY",
        "outputId": "d7b3f133-e026-4193-e09c-d2ee06a7d7e7"
      },
      "source": [
        "y_preds = clf2.predict(X_test)\n",
        "print(confusion_matrix(y_test, y_preds))\n",
        "print(accuracy_score(y_test, y_preds))\n",
        "print(classification_report(y_test, y_preds))"
      ],
      "execution_count": 66,
      "outputs": [
        {
          "output_type": "stream",
          "text": [
            "[[85271     7]\n",
            " [   42   123]]\n",
            "0.9994265182636377\n",
            "              precision    recall  f1-score   support\n",
            "\n",
            "           0       1.00      1.00      1.00     85278\n",
            "           1       0.95      0.75      0.83       165\n",
            "\n",
            "    accuracy                           1.00     85443\n",
            "   macro avg       0.97      0.87      0.92     85443\n",
            "weighted avg       1.00      1.00      1.00     85443\n",
            "\n"
          ],
          "name": "stdout"
        }
      ]
    },
    {
      "cell_type": "markdown",
      "metadata": {
        "id": "1H2roTglMUJZ"
      },
      "source": [
        "####1) Undersampling \n",
        "    Can be used when data is really less.\n",
        "    Not recommended to use becasue it reduces the data.\n",
        "    Reduce the points of maximum labels."
      ]
    },
    {
      "cell_type": "code",
      "metadata": {
        "id": "NLik3ZCdMTlj"
      },
      "source": [
        "from imblearn.under_sampling import NearMiss\n",
        "from collections import Counter"
      ],
      "execution_count": 69,
      "outputs": []
    },
    {
      "cell_type": "code",
      "metadata": {
        "colab": {
          "base_uri": "https://localhost:8080/"
        },
        "id": "7BWEpsY1Muea",
        "outputId": "0bf8e54e-ebd2-4170-ff83-6144bfe3f44c"
      },
      "source": [
        "Counter(y_train)"
      ],
      "execution_count": 70,
      "outputs": [
        {
          "output_type": "execute_result",
          "data": {
            "text/plain": [
              "Counter({0: 199037, 1: 327})"
            ]
          },
          "metadata": {
            "tags": []
          },
          "execution_count": 70
        }
      ]
    },
    {
      "cell_type": "code",
      "metadata": {
        "colab": {
          "base_uri": "https://localhost:8080/"
        },
        "id": "K2W9e0cWMThb",
        "outputId": "1d1bfb87-9bf9-4ca7-bd27-049fa3bce046"
      },
      "source": [
        "ns = NearMiss(0.8) # 80% of 327 + 327\n",
        "X_train_ns, y_train_ns = ns.fit_sample(X_train, y_train)\n",
        "\n",
        "Counter(y_train_ns)"
      ],
      "execution_count": 71,
      "outputs": [
        {
          "output_type": "stream",
          "text": [
            "/usr/local/lib/python3.7/dist-packages/sklearn/utils/deprecation.py:87: FutureWarning: Function safe_indexing is deprecated; safe_indexing is deprecated in version 0.22 and will be removed in version 0.24.\n",
            "  warnings.warn(msg, category=FutureWarning)\n",
            "/usr/local/lib/python3.7/dist-packages/sklearn/utils/deprecation.py:87: FutureWarning: Function safe_indexing is deprecated; safe_indexing is deprecated in version 0.22 and will be removed in version 0.24.\n",
            "  warnings.warn(msg, category=FutureWarning)\n",
            "/usr/local/lib/python3.7/dist-packages/sklearn/utils/deprecation.py:87: FutureWarning: Function safe_indexing is deprecated; safe_indexing is deprecated in version 0.22 and will be removed in version 0.24.\n",
            "  warnings.warn(msg, category=FutureWarning)\n"
          ],
          "name": "stderr"
        },
        {
          "output_type": "execute_result",
          "data": {
            "text/plain": [
              "Counter({0: 408, 1: 327})"
            ]
          },
          "metadata": {
            "tags": []
          },
          "execution_count": 71
        }
      ]
    },
    {
      "cell_type": "code",
      "metadata": {
        "colab": {
          "base_uri": "https://localhost:8080/"
        },
        "id": "F_GhdzNHMTf4",
        "outputId": "489fd47c-a952-40ae-a6f4-878ac2c26d88"
      },
      "source": [
        "clf3 = RandomForestClassifier()\n",
        "clf3.fit(X_train_ns, y_train_ns)"
      ],
      "execution_count": 75,
      "outputs": [
        {
          "output_type": "execute_result",
          "data": {
            "text/plain": [
              "RandomForestClassifier(bootstrap=True, ccp_alpha=0.0, class_weight=None,\n",
              "                       criterion='gini', max_depth=None, max_features='auto',\n",
              "                       max_leaf_nodes=None, max_samples=None,\n",
              "                       min_impurity_decrease=0.0, min_impurity_split=None,\n",
              "                       min_samples_leaf=1, min_samples_split=2,\n",
              "                       min_weight_fraction_leaf=0.0, n_estimators=100,\n",
              "                       n_jobs=None, oob_score=False, random_state=None,\n",
              "                       verbose=0, warm_start=False)"
            ]
          },
          "metadata": {
            "tags": []
          },
          "execution_count": 75
        }
      ]
    },
    {
      "cell_type": "code",
      "metadata": {
        "colab": {
          "base_uri": "https://localhost:8080/"
        },
        "id": "A9K_pFl_MTd2",
        "outputId": "7c4e4c8f-94f5-4936-edc6-75e01a98a2b7"
      },
      "source": [
        "y_preds = clf3.predict(X_test)\n",
        "print(confusion_matrix(y_test, y_preds))\n",
        "print(accuracy_score(y_test, y_preds))\n",
        "print(classification_report(y_test, y_preds))"
      ],
      "execution_count": 76,
      "outputs": [
        {
          "output_type": "stream",
          "text": [
            "[[74556 10722]\n",
            " [   16   149]]\n",
            "0.8743255737743291\n",
            "              precision    recall  f1-score   support\n",
            "\n",
            "           0       1.00      0.87      0.93     85278\n",
            "           1       0.01      0.90      0.03       165\n",
            "\n",
            "    accuracy                           0.87     85443\n",
            "   macro avg       0.51      0.89      0.48     85443\n",
            "weighted avg       1.00      0.87      0.93     85443\n",
            "\n"
          ],
          "name": "stdout"
        }
      ]
    },
    {
      "cell_type": "markdown",
      "metadata": {
        "id": "6bJXY-P2OzyC"
      },
      "source": [
        "####2) Oversampling"
      ]
    },
    {
      "cell_type": "code",
      "metadata": {
        "id": "f0xwf-7vMTbw"
      },
      "source": [
        "from imblearn.over_sampling import RandomOverSampler"
      ],
      "execution_count": 77,
      "outputs": []
    },
    {
      "cell_type": "code",
      "metadata": {
        "id": "GediCX0eO9pL"
      },
      "source": [
        "os = RandomOverSampler(0.5)\n",
        "X_train_os, y_train_os = os.fit_sample(X_train, y_train)\n",
        "Counter(y_train_os)"
      ],
      "execution_count": null,
      "outputs": []
    },
    {
      "cell_type": "code",
      "metadata": {
        "colab": {
          "base_uri": "https://localhost:8080/"
        },
        "id": "e90wYDVcO9ko",
        "outputId": "a4933783-f5f9-420e-9626-c69d0a2800bb"
      },
      "source": [
        "clf4 = RandomForestClassifier()\n",
        "clf4.fit(X_train_os, y_train_os)"
      ],
      "execution_count": 80,
      "outputs": [
        {
          "output_type": "execute_result",
          "data": {
            "text/plain": [
              "RandomForestClassifier(bootstrap=True, ccp_alpha=0.0, class_weight=None,\n",
              "                       criterion='gini', max_depth=None, max_features='auto',\n",
              "                       max_leaf_nodes=None, max_samples=None,\n",
              "                       min_impurity_decrease=0.0, min_impurity_split=None,\n",
              "                       min_samples_leaf=1, min_samples_split=2,\n",
              "                       min_weight_fraction_leaf=0.0, n_estimators=100,\n",
              "                       n_jobs=None, oob_score=False, random_state=None,\n",
              "                       verbose=0, warm_start=False)"
            ]
          },
          "metadata": {
            "tags": []
          },
          "execution_count": 80
        }
      ]
    },
    {
      "cell_type": "code",
      "metadata": {
        "colab": {
          "base_uri": "https://localhost:8080/"
        },
        "id": "OjAVI132O9iR",
        "outputId": "8c7cc2fb-6a95-41cb-b5a6-4bb3835fc06d"
      },
      "source": [
        "y_preds = clf4.predict(X_test)\n",
        "print(confusion_matrix(y_test, y_preds))\n",
        "print(accuracy_score(y_test, y_preds))\n",
        "print(classification_report(y_test, y_preds))"
      ],
      "execution_count": 82,
      "outputs": [
        {
          "output_type": "stream",
          "text": [
            "[[85270     8]\n",
            " [   42   123]]\n",
            "0.9994148145547324\n",
            "              precision    recall  f1-score   support\n",
            "\n",
            "           0       1.00      1.00      1.00     85278\n",
            "           1       0.94      0.75      0.83       165\n",
            "\n",
            "    accuracy                           1.00     85443\n",
            "   macro avg       0.97      0.87      0.92     85443\n",
            "weighted avg       1.00      1.00      1.00     85443\n",
            "\n"
          ],
          "name": "stdout"
        }
      ]
    },
    {
      "cell_type": "markdown",
      "metadata": {
        "id": "tkIbOjsuR-EI"
      },
      "source": [
        "####3) SMOTETomek"
      ]
    },
    {
      "cell_type": "code",
      "metadata": {
        "id": "ZId16FIzR90B"
      },
      "source": [
        "from imblearn.combine import SMOTETomek"
      ],
      "execution_count": 83,
      "outputs": []
    },
    {
      "cell_type": "code",
      "metadata": {
        "id": "RNJNYQ94R9wi"
      },
      "source": [
        "sm = SMOTETomek(0.5)\n",
        "X_train_sm, y_train_sm = sm.fit_sample(X_train, y_train)"
      ],
      "execution_count": null,
      "outputs": []
    },
    {
      "cell_type": "code",
      "metadata": {
        "colab": {
          "base_uri": "https://localhost:8080/"
        },
        "id": "DifmiWLoSv7_",
        "outputId": "b6cf2ad5-def4-450c-d483-a90398cd1bef"
      },
      "source": [
        "Counter(y_train_sm)"
      ],
      "execution_count": 87,
      "outputs": [
        {
          "output_type": "execute_result",
          "data": {
            "text/plain": [
              "Counter({0: 198309, 1: 98790})"
            ]
          },
          "metadata": {
            "tags": []
          },
          "execution_count": 87
        }
      ]
    },
    {
      "cell_type": "code",
      "metadata": {
        "colab": {
          "base_uri": "https://localhost:8080/"
        },
        "id": "lwbv50TiR9s6",
        "outputId": "316beac7-3d9a-4575-d719-fbcf84f0c799"
      },
      "source": [
        "clf5 = RandomForestClassifier()\n",
        "clf5.fit(X_train_os, y_train_os)"
      ],
      "execution_count": 85,
      "outputs": [
        {
          "output_type": "execute_result",
          "data": {
            "text/plain": [
              "RandomForestClassifier(bootstrap=True, ccp_alpha=0.0, class_weight=None,\n",
              "                       criterion='gini', max_depth=None, max_features='auto',\n",
              "                       max_leaf_nodes=None, max_samples=None,\n",
              "                       min_impurity_decrease=0.0, min_impurity_split=None,\n",
              "                       min_samples_leaf=1, min_samples_split=2,\n",
              "                       min_weight_fraction_leaf=0.0, n_estimators=100,\n",
              "                       n_jobs=None, oob_score=False, random_state=None,\n",
              "                       verbose=0, warm_start=False)"
            ]
          },
          "metadata": {
            "tags": []
          },
          "execution_count": 85
        }
      ]
    },
    {
      "cell_type": "code",
      "metadata": {
        "colab": {
          "base_uri": "https://localhost:8080/"
        },
        "id": "OrJZYoKaSlNc",
        "outputId": "699c96b7-d4cb-4844-f38d-9e7bd94ecc06"
      },
      "source": [
        "y_preds = clf5.predict(X_test)\n",
        "print(confusion_matrix(y_test, y_preds))\n",
        "print(accuracy_score(y_test, y_preds))\n",
        "print(classification_report(y_test, y_preds))"
      ],
      "execution_count": 86,
      "outputs": [
        {
          "output_type": "stream",
          "text": [
            "[[85270     8]\n",
            " [   43   122]]\n",
            "0.999403110845827\n",
            "              precision    recall  f1-score   support\n",
            "\n",
            "           0       1.00      1.00      1.00     85278\n",
            "           1       0.94      0.74      0.83       165\n",
            "\n",
            "    accuracy                           1.00     85443\n",
            "   macro avg       0.97      0.87      0.91     85443\n",
            "weighted avg       1.00      1.00      1.00     85443\n",
            "\n"
          ],
          "name": "stdout"
        }
      ]
    },
    {
      "cell_type": "markdown",
      "metadata": {
        "id": "l2ZdOX46TpQx"
      },
      "source": [
        "####4) Ensemble Technique"
      ]
    },
    {
      "cell_type": "code",
      "metadata": {
        "id": "2FGvzX6vTpCr"
      },
      "source": [
        "from imblearn.ensemble import EasyEnsembleClassifier"
      ],
      "execution_count": 88,
      "outputs": []
    },
    {
      "cell_type": "code",
      "metadata": {
        "id": "0zjUejAUTo-1"
      },
      "source": [
        "easy = EasyEnsembleClassifier()\n",
        "easy.fit(X_train, y_train)"
      ],
      "execution_count": null,
      "outputs": []
    },
    {
      "cell_type": "code",
      "metadata": {
        "colab": {
          "base_uri": "https://localhost:8080/"
        },
        "id": "PY4thMsKTo8O",
        "outputId": "0f3d90d5-4011-4657-fb18-c4592f3f730c"
      },
      "source": [
        "y_preds = easy.predict(X_test)\n",
        "print(confusion_matrix(y_test, y_preds))\n",
        "print(accuracy_score(y_test, y_preds))\n",
        "print(classification_report(y_test, y_preds))"
      ],
      "execution_count": 90,
      "outputs": [
        {
          "output_type": "stream",
          "text": [
            "[[82403  2875]\n",
            " [   18   147]]\n",
            "0.9661411701368163\n",
            "              precision    recall  f1-score   support\n",
            "\n",
            "           0       1.00      0.97      0.98     85278\n",
            "           1       0.05      0.89      0.09       165\n",
            "\n",
            "    accuracy                           0.97     85443\n",
            "   macro avg       0.52      0.93      0.54     85443\n",
            "weighted avg       1.00      0.97      0.98     85443\n",
            "\n"
          ],
          "name": "stdout"
        }
      ]
    },
    {
      "cell_type": "markdown",
      "metadata": {
        "id": "LnmLjAzAAZ5n"
      },
      "source": [
        "####**OUTLIERS AND IT'S IMPACT**\n",
        "\n",
        "    Outliers are basically those data points which are abnormal/different from other data points in a dataset.\n",
        "\n",
        "    ML algorithms :=\n",
        "    1) Naive Bayes Classifier => Not sensitive.\n",
        "    2) SVM => Not sensitive.\n",
        "    3) Decision Tree Regression or Classifier => Not sensivitve.\n",
        "    4) Ensemble (RF, XGBoost, GB) => Not sensitive.\n",
        "    5) KNN => Not sensivtive.\n",
        "    6) Linear Regression => Sensitive.\n",
        "    7) Logistic Regression => Sensitive.\n",
        "    8) KMeans => Sensitive.\n",
        "    9) Hierarichal => Sensitive.\n",
        "    11) DBScan => Sensitive.\n",
        "    12) PCA => Sensitive.\n",
        "    13) Neural Networks => Sensitive."
      ]
    },
    {
      "cell_type": "code",
      "metadata": {
        "id": "hLsQKi3RAY4V"
      },
      "source": [
        "df = pd.read_csv(\"/content/titanic.csv\")"
      ],
      "execution_count": 2,
      "outputs": []
    },
    {
      "cell_type": "code",
      "metadata": {
        "colab": {
          "base_uri": "https://localhost:8080/",
          "height": 351
        },
        "id": "m2iHlCwMAY1N",
        "outputId": "fb13ae80-1c11-4632-cc22-d3a719fda339"
      },
      "source": [
        "sns.distplot(df['Age'].dropna())"
      ],
      "execution_count": 5,
      "outputs": [
        {
          "output_type": "stream",
          "text": [
            "/usr/local/lib/python3.7/dist-packages/seaborn/distributions.py:2557: FutureWarning: `distplot` is a deprecated function and will be removed in a future version. Please adapt your code to use either `displot` (a figure-level function with similar flexibility) or `histplot` (an axes-level function for histograms).\n",
            "  warnings.warn(msg, FutureWarning)\n"
          ],
          "name": "stderr"
        },
        {
          "output_type": "execute_result",
          "data": {
            "text/plain": [
              "<matplotlib.axes._subplots.AxesSubplot at 0x7f13f5a33fd0>"
            ]
          },
          "metadata": {
            "tags": []
          },
          "execution_count": 5
        },
        {
          "output_type": "display_data",
          "data": {
            "image/png": "[encoded data removed]",
            "text/plain": [
              "<Figure size 432x288 with 1 Axes>"
            ]
          },
          "metadata": {
            "tags": [],
            "needs_background": "light"
          }
        }
      ]
    },
    {
      "cell_type": "code",
      "metadata": {
        "colab": {
          "base_uri": "https://localhost:8080/",
          "height": 265
        },
        "id": "KE3Dwfe1AYxw",
        "outputId": "76f7db60-a650-4b2c-df1a-1ae8d0eb1890"
      },
      "source": [
        "fig = df.boxplot(column='Age')"
      ],
      "execution_count": 6,
      "outputs": [
        {
          "output_type": "display_data",
          "data": {
            "image/png": "[encoded data removed]",
            "text/plain": [
              "<Figure size 432x288 with 1 Axes>"
            ]
          },
          "metadata": {
            "tags": [],
            "needs_background": "light"
          }
        }
      ]
    },
    {
      "cell_type": "markdown",
      "metadata": {
        "id": "KL26TN06JAZw"
      },
      "source": [
        "#### Handling Outliers for Gaussian Distribution."
      ]
    },
    {
      "cell_type": "code",
      "metadata": {
        "colab": {
          "base_uri": "https://localhost:8080/"
        },
        "id": "tyFXPpvuI0X3",
        "outputId": "fdf637a6-79cb-4265-9d66-93f1decdc454"
      },
      "source": [
        "df['Age'].describe()"
      ],
      "execution_count": 9,
      "outputs": [
        {
          "output_type": "execute_result",
          "data": {
            "text/plain": [
              "count    714.000000\n",
              "mean      29.699118\n",
              "std       14.526497\n",
              "min        0.420000\n",
              "25%       20.125000\n",
              "50%       28.000000\n",
              "75%       38.000000\n",
              "max       80.000000\n",
              "Name: Age, dtype: float64"
            ]
          },
          "metadata": {
            "tags": []
          },
          "execution_count": 9
        }
      ]
    },
    {
      "cell_type": "markdown",
      "metadata": {
        "id": "eGVh6lWFJbBM"
      },
      "source": [
        "Assuming 'Age' follows a Gaussian Distribution we will calculate the boundaries which differentiate the outliers."
      ]
    },
    {
      "cell_type": "code",
      "metadata": {
        "colab": {
          "base_uri": "https://localhost:8080/"
        },
        "id": "qOUEdIsOI0Tz",
        "outputId": "f81826fa-cf7b-4621-b359-31f5a0a3bbec"
      },
      "source": [
        "upper_bound = df['Age'].mean() + 3*df['Age'].std()\n",
        "lower_bound = df['Age'].mean() - 3*df['Age'].std()\n",
        "\n",
        "upper_bound, lower_bound"
      ],
      "execution_count": 10,
      "outputs": [
        {
          "output_type": "execute_result",
          "data": {
            "text/plain": [
              "(73.27860964406095, -13.88037434994331)"
            ]
          },
          "metadata": {
            "tags": []
          },
          "execution_count": 10
        }
      ]
    },
    {
      "cell_type": "markdown",
      "metadata": {
        "id": "DKST0y7LOQ39"
      },
      "source": [
        "#### Handling Outliers for Skewed Feature."
      ]
    },
    {
      "cell_type": "code",
      "metadata": {
        "colab": {
          "base_uri": "https://localhost:8080/"
        },
        "id": "UkpGpLWLOWon",
        "outputId": "c16bc1b6-c1b5-4a7d-fd22-83a5a47d1e9d"
      },
      "source": [
        "# Computing the IQR for calculating the boundaries.\n",
        "# IQR = difference between 75 percentile and 25 percentile.\n",
        "\n",
        "IQR = df['Fare'].quantile(0.75) - df['Fare'].quantile(0.25)\n",
        "IQR"
      ],
      "execution_count": 14,
      "outputs": [
        {
          "output_type": "execute_result",
          "data": {
            "text/plain": [
              "23.0896"
            ]
          },
          "metadata": {
            "tags": []
          },
          "execution_count": 14
        }
      ]
    },
    {
      "cell_type": "code",
      "metadata": {
        "colab": {
          "base_uri": "https://localhost:8080/"
        },
        "id": "DbGawGo5OWkF",
        "outputId": "7e44779c-e660-4b5b-8b4b-b7359c9b5b51"
      },
      "source": [
        "lower_bridge = df['Fare'].quantile(0.25) - (IQR*3)  # for extreme outliers, x by 3 instead of 1.5.\n",
        "upper_bridge = df['Fare'].quantile(0.75) + (IQR*3)\n",
        "\n",
        "lower_bridge, upper_bridge"
      ],
      "execution_count": 17,
      "outputs": [
        {
          "output_type": "execute_result",
          "data": {
            "text/plain": [
              "(-61.358399999999996, 100.2688)"
            ]
          },
          "metadata": {
            "tags": []
          },
          "execution_count": 17
        }
      ]
    },
    {
      "cell_type": "markdown",
      "metadata": {
        "id": "HBz6urVgP8Oa"
      },
      "source": [
        "Removing the Outliers for Gaussian distributed feature."
      ]
    },
    {
      "cell_type": "code",
      "metadata": {
        "id": "Kt8k60XbOWiE"
      },
      "source": [
        "data = df.copy()"
      ],
      "execution_count": 18,
      "outputs": []
    },
    {
      "cell_type": "code",
      "metadata": {
        "id": "AuX6-JqqOWfl"
      },
      "source": [
        "data.loc[data['Age'] > upper_bound, 'Age'] = upper_bound"
      ],
      "execution_count": 20,
      "outputs": []
    },
    {
      "cell_type": "markdown",
      "metadata": {
        "id": "ju2G6o6HQipx"
      },
      "source": [
        "Removing the Outliers for Skewed feature."
      ]
    },
    {
      "cell_type": "code",
      "metadata": {
        "id": "VaytGgwjQmDM"
      },
      "source": [
        "data.loc[data['Fare'] > upper_bridge, 'Fare'] = upper_bridge"
      ],
      "execution_count": 21,
      "outputs": []
    },
    {
      "cell_type": "markdown",
      "metadata": {
        "id": "7_nZDphfKFVC"
      },
      "source": [
        "**ALL IMPORTANT FEATURE SELECTION TECHNIQUES**"
      ]
    },
    {
      "cell_type": "markdown",
      "metadata": {
        "id": "XgTFHjlzLV7q"
      },
      "source": [
        "1) USING CORRELATION MATRIX"
      ]
    },
    {
      "cell_type": "code",
      "metadata": {
        "colab": {
          "base_uri": "https://localhost:8080/",
          "height": 867
        },
        "id": "h9KG6kEkFtLT",
        "outputId": "02caae9c-10b5-41f2-bd92-b1acc0f74441"
      },
      "source": [
        "# correlation matrix\n",
        "\n",
        "corr_mat = train_df.corr()\n",
        "top_corr_features = corr_mat.index\n",
        "plt.figure(figsize=(15, 15))\n",
        "g = sns.heatmap(corr_mat[top_corr_features].corr(), annot=True, cmap=sns.diverging_palette(20, 220, n=200))"
      ],
      "execution_count": null,
      "outputs": [
        {
          "output_type": "display_data",
          "data": {
            "image/png": "[encoded data removed]",
            "text/plain": [
              "<Figure size 1080x1080 with 2 Axes>"
            ]
          },
          "metadata": {
            "tags": [],
            "needs_background": "light"
          }
        }
      ]
    },
    {
      "cell_type": "code",
      "metadata": {
        "colab": {
          "base_uri": "https://localhost:8080/"
        },
        "id": "lc-o27T0FtIt",
        "outputId": "0ae444d9-c46e-472c-e5a8-4155a2cd6992"
      },
      "source": [
        "# find and remove correlated features\n",
        "\n",
        "threshold = 0.8\n",
        "\n",
        "def correlation(dataset, threshold):\n",
        "    col_corr = set()  # Set of all the names of correlated columns\n",
        "    corr_matrix = dataset.corr()\n",
        "    for i in range(len(corr_matrix.columns)):\n",
        "        for j in range(i):\n",
        "            if abs(corr_matrix.iloc[i, j]) > threshold: # we are interested in absolute coeff value\n",
        "                colname = corr_matrix.columns[i]  # getting the name of column\n",
        "                col_corr.add(colname)\n",
        "    return col_corr\n",
        "\n",
        "correlation(train_df.iloc[:,:-1],threshold)"
      ],
      "execution_count": null,
      "outputs": [
        {
          "output_type": "execute_result",
          "data": {
            "text/plain": [
              "set()"
            ]
          },
          "metadata": {
            "tags": []
          },
          "execution_count": 36
        }
      ]
    },
    {
      "cell_type": "markdown",
      "metadata": {
        "id": "kjzaJlTILZ3O"
      },
      "source": [
        "2) USING K SELECT BEST CHI^2 TEST"
      ]
    },
    {
      "cell_type": "code",
      "metadata": {
        "colab": {
          "base_uri": "https://localhost:8080/",
          "height": 457
        },
        "id": "8H6ox0mqFtGN",
        "outputId": "1401ebc1-8361-4420-e44e-adf654952d9d"
      },
      "source": [
        "# Select K best using Chi^2 test\n",
        "\n",
        "ordered_rank_features = SelectKBest(score_func=chi2, k=13)\n",
        "ordered_feature = ordered_rank_features.fit(train_df, y)\n",
        "\n",
        "dfscores = pd.DataFrame(ordered_feature.scores_, columns=[\"Score\"])\n",
        "dfcolumns = pd.DataFrame(train_df.columns)\n",
        "\n",
        "features_rank = pd.concat([dfcolumns, dfscores], axis=1)\n",
        "\n",
        "features_rank.columns = ['Features','Score']\n",
        "\n",
        "features_rank.nlargest(13, 'Score')"
      ],
      "execution_count": null,
      "outputs": [
        {
          "output_type": "execute_result",
          "data": {
            "text/html": [
              "<div>\n",
              "<style scoped>\n",
              "    .dataframe tbody tr th:only-of-type {\n",
              "        vertical-align: middle;\n",
              "    }\n",
              "\n",
              "    .dataframe tbody tr th {\n",
              "        vertical-align: top;\n",
              "    }\n",
              "\n",
              "    .dataframe thead th {\n",
              "        text-align: right;\n",
              "    }\n",
              "</style>\n",
              "<table border=\"1\" class=\"dataframe\">\n",
              "  <thead>\n",
              "    <tr style=\"text-align: right;\">\n",
              "      <th></th>\n",
              "      <th>Features</th>\n",
              "      <th>Score</th>\n",
              "    </tr>\n",
              "  </thead>\n",
              "  <tbody>\n",
              "    <tr>\n",
              "      <th>7</th>\n",
              "      <td>thalach</td>\n",
              "      <td>188.320472</td>\n",
              "    </tr>\n",
              "    <tr>\n",
              "      <th>9</th>\n",
              "      <td>oldpeak</td>\n",
              "      <td>72.644253</td>\n",
              "    </tr>\n",
              "    <tr>\n",
              "      <th>11</th>\n",
              "      <td>ca</td>\n",
              "      <td>66.440765</td>\n",
              "    </tr>\n",
              "    <tr>\n",
              "      <th>2</th>\n",
              "      <td>cp</td>\n",
              "      <td>62.598098</td>\n",
              "    </tr>\n",
              "    <tr>\n",
              "      <th>8</th>\n",
              "      <td>exang</td>\n",
              "      <td>38.914377</td>\n",
              "    </tr>\n",
              "    <tr>\n",
              "      <th>4</th>\n",
              "      <td>chol</td>\n",
              "      <td>23.936394</td>\n",
              "    </tr>\n",
              "    <tr>\n",
              "      <th>0</th>\n",
              "      <td>age</td>\n",
              "      <td>23.286624</td>\n",
              "    </tr>\n",
              "    <tr>\n",
              "      <th>3</th>\n",
              "      <td>trestbps</td>\n",
              "      <td>14.823925</td>\n",
              "    </tr>\n",
              "    <tr>\n",
              "      <th>10</th>\n",
              "      <td>slope</td>\n",
              "      <td>9.804095</td>\n",
              "    </tr>\n",
              "    <tr>\n",
              "      <th>1</th>\n",
              "      <td>sex</td>\n",
              "      <td>7.576835</td>\n",
              "    </tr>\n",
              "    <tr>\n",
              "      <th>12</th>\n",
              "      <td>thal</td>\n",
              "      <td>5.791853</td>\n",
              "    </tr>\n",
              "    <tr>\n",
              "      <th>6</th>\n",
              "      <td>restecg</td>\n",
              "      <td>2.978271</td>\n",
              "    </tr>\n",
              "    <tr>\n",
              "      <th>5</th>\n",
              "      <td>fbs</td>\n",
              "      <td>0.202934</td>\n",
              "    </tr>\n",
              "  </tbody>\n",
              "</table>\n",
              "</div>"
            ],
            "text/plain": [
              "    Features       Score\n",
              "7    thalach  188.320472\n",
              "9    oldpeak   72.644253\n",
              "11        ca   66.440765\n",
              "2         cp   62.598098\n",
              "8      exang   38.914377\n",
              "4       chol   23.936394\n",
              "0        age   23.286624\n",
              "3   trestbps   14.823925\n",
              "10     slope    9.804095\n",
              "1        sex    7.576835\n",
              "12      thal    5.791853\n",
              "6    restecg    2.978271\n",
              "5        fbs    0.202934"
            ]
          },
          "metadata": {
            "tags": []
          },
          "execution_count": 31
        }
      ]
    },
    {
      "cell_type": "markdown",
      "metadata": {
        "id": "aWoYtOMyMNHE"
      },
      "source": [
        "3) USING FEATURE IMPORTANCE - This technique gives you a score for each feature of your data,the higher the score mor relevant it is"
      ]
    },
    {
      "cell_type": "code",
      "metadata": {
        "colab": {
          "base_uri": "https://localhost:8080/"
        },
        "id": "MNWYXV3mFtDT",
        "outputId": "9695b88f-369a-49b4-812a-d22d7978f10c"
      },
      "source": [
        "model = ExtraTreesClassifier()\n",
        "model.fit(train_df, y)"
      ],
      "execution_count": null,
      "outputs": [
        {
          "output_type": "execute_result",
          "data": {
            "text/plain": [
              "ExtraTreesClassifier(bootstrap=False, ccp_alpha=0.0, class_weight=None,\n",
              "                     criterion='gini', max_depth=None, max_features='auto',\n",
              "                     max_leaf_nodes=None, max_samples=None,\n",
              "                     min_impurity_decrease=0.0, min_impurity_split=None,\n",
              "                     min_samples_leaf=1, min_samples_split=2,\n",
              "                     min_weight_fraction_leaf=0.0, n_estimators=100,\n",
              "                     n_jobs=None, oob_score=False, random_state=None, verbose=0,\n",
              "                     warm_start=False)"
            ]
          },
          "metadata": {
            "tags": []
          },
          "execution_count": 38
        }
      ]
    },
    {
      "cell_type": "code",
      "metadata": {
        "colab": {
          "base_uri": "https://localhost:8080/",
          "height": 265
        },
        "id": "ArkwebmgLfj_",
        "outputId": "ef1cfcd3-cbf6-47c6-910f-d528cb606d0f"
      },
      "source": [
        "ranked_features = pd.Series(model.feature_importances_, index=train_df.columns)\n",
        "ranked_features.nlargest(10).plot(kind='barh')\n",
        "plt.show()"
      ],
      "execution_count": null,
      "outputs": [
        {
          "output_type": "display_data",
          "data": {
            "image/png": "[encoded data removed]",
            "text/plain": [
              "<Figure size 432x288 with 1 Axes>"
            ]
          },
          "metadata": {
            "tags": [],
            "needs_background": "light"
          }
        }
      ]
    },
    {
      "cell_type": "markdown",
      "metadata": {
        "id": "w2WFLfGUMv1_"
      },
      "source": [
        "4) USING INFORMATION GAIN"
      ]
    },
    {
      "cell_type": "code",
      "metadata": {
        "id": "TaU4JMf3Lffm"
      },
      "source": [
        "mutual_info = mutual_info_classif(train_df, y)"
      ],
      "execution_count": null,
      "outputs": []
    },
    {
      "cell_type": "code",
      "metadata": {
        "colab": {
          "base_uri": "https://localhost:8080/"
        },
        "id": "3nSydaCOLfdl",
        "outputId": "d0cb6daf-78e1-475b-b76a-8e0ae9c9a8ed"
      },
      "source": [
        "mutual_data = pd.Series(mutual_info, index=train_df.columns)\n",
        "mutual_data.sort_values(ascending=False)"
      ],
      "execution_count": null,
      "outputs": [
        {
          "output_type": "execute_result",
          "data": {
            "text/plain": [
              "cp          0.157512\n",
              "ca          0.125396\n",
              "thal        0.098919\n",
              "exang       0.089696\n",
              "slope       0.087677\n",
              "oldpeak     0.085162\n",
              "chol        0.083242\n",
              "thalach     0.075302\n",
              "sex         0.042916\n",
              "restecg     0.004994\n",
              "fbs         0.000000\n",
              "trestbps    0.000000\n",
              "age         0.000000\n",
              "dtype: float64"
            ]
          },
          "metadata": {
            "tags": []
          },
          "execution_count": 42
        }
      ]
    },
    {
      "cell_type": "markdown",
      "metadata": {
        "id": "0DGkq33nNS6A"
      },
      "source": [
        "**FINAL SELECTION OF FEATURES**"
      ]
    },
    {
      "cell_type": "code",
      "metadata": {
        "id": "Q8fQAMBrLfbm"
      },
      "source": [
        "final_selected_features = ['ca', 'cp', 'exang', 'thal', 'oldpeak', 'thalach']"
      ],
      "execution_count": 5,
      "outputs": []
    },
    {
      "cell_type": "code",
      "metadata": {
        "id": "8S7ohHjnNiBe"
      },
      "source": [
        "X = train_df[final_selected_features]"
      ],
      "execution_count": 6,
      "outputs": []
    },
    {
      "cell_type": "code",
      "metadata": {
        "colab": {
          "base_uri": "https://localhost:8080/"
        },
        "id": "mNfMYFAFNilh",
        "outputId": "ce210897-ae21-49f1-8f16-6e04c62606f4"
      },
      "source": [
        "X.shape"
      ],
      "execution_count": 7,
      "outputs": [
        {
          "output_type": "execute_result",
          "data": {
            "text/plain": [
              "(303, 6)"
            ]
          },
          "metadata": {
            "tags": []
          },
          "execution_count": 7
        }
      ]
    },
    {
      "cell_type": "markdown",
      "metadata": {
        "id": "Xr5UBTEllKY8"
      },
      "source": [
        "**ALL IMPORTATNT CROSS VALIDATION TECHNIQUES**"
      ]
    },
    {
      "cell_type": "markdown",
      "metadata": {
        "id": "9vu7P_8llS6B"
      },
      "source": [
        "1) THE SIMPLEST - HOLDOUT VALIDATION APPROACH - TRAIN TEST SPLIT"
      ]
    },
    {
      "cell_type": "code",
      "metadata": {
        "id": "jin4R1rqNihN",
        "colab": {
          "base_uri": "https://localhost:8080/"
        },
        "outputId": "00486832-1d2c-4233-804e-0a6d8c403618"
      },
      "source": [
        "from sklearn.tree import DecisionTreeClassifier\n",
        "from sklearn.model_selection import train_test_split\n",
        "\n",
        "X_train, X_test, y_train, y_test = train_test_split(X.values, y, test_size=0.15, random_state=101)\n",
        "\n",
        "dtmodel = DecisionTreeClassifier()\n",
        "dtmodel.fit(X_train, y_train)\n",
        "result = dtmodel.score(X_test, y_test)\n",
        "print(result)\n",
        "\n",
        "# 1 disadvantage of this approach is that the data is splitted based on the random_state."
      ],
      "execution_count": 12,
      "outputs": [
        {
          "output_type": "stream",
          "text": [
            "0.8043478260869565\n"
          ],
          "name": "stdout"
        }
      ]
    },
    {
      "cell_type": "markdown",
      "metadata": {
        "id": "Z98chSnKnbMh"
      },
      "source": [
        "2) K FOLD CROSS VALIDATION - we do N different splits and fit our model on these N splits and later take mean of the accuracies."
      ]
    },
    {
      "cell_type": "code",
      "metadata": {
        "colab": {
          "base_uri": "https://localhost:8080/"
        },
        "id": "Wyjkt7jtn4ux",
        "outputId": "bbe8d99a-82c8-4c2f-ecce-834bb8f42e3f"
      },
      "source": [
        "from sklearn.model_selection import KFold, cross_val_score\n",
        "\n",
        "dtmodel = DecisionTreeClassifier()\n",
        "\n",
        "kfold_validations = KFold(10)\n",
        "\n",
        "results = cross_val_score(dtmodel, X.values, y, cv=kfold_validations)\n",
        "print(results)\n",
        "print(np.mean(results))"
      ],
      "execution_count": 18,
      "outputs": [
        {
          "output_type": "stream",
          "text": [
            "[0.67741935 0.74193548 0.77419355 0.53333333 0.76666667 0.8\n",
            " 0.76666667 0.8        0.63333333 0.63333333]\n",
            "0.7126881720430107\n"
          ],
          "name": "stdout"
        }
      ]
    },
    {
      "cell_type": "markdown",
      "metadata": {
        "id": "96G9fXbWpjXV"
      },
      "source": [
        "3) STRATIFIED K FOLD CROSS VALIDATION - can be used for an imbalanced dataset"
      ]
    },
    {
      "cell_type": "code",
      "metadata": {
        "colab": {
          "base_uri": "https://localhost:8080/"
        },
        "id": "NtSd8FHsn4qD",
        "outputId": "8c128962-87c5-4763-c3be-ff9ff96c7086"
      },
      "source": [
        "from sklearn.model_selection import StratifiedKFold\n",
        "\n",
        "stratified_kfold_validation = StratifiedKFold(n_splits=5)\n",
        "\n",
        "dtmodel = DecisionTreeClassifier()\n",
        "\n",
        "results = cross_val_score(dtmodel, X.values, y, cv=stratified_kfold_validation)\n",
        "print(results)\n",
        "print(np.mean(results))"
      ],
      "execution_count": 20,
      "outputs": [
        {
          "output_type": "stream",
          "text": [
            "[0.75409836 0.81967213 0.80327869 0.68333333 0.7       ]\n",
            "0.7520765027322405\n"
          ],
          "name": "stdout"
        }
      ]
    },
    {
      "cell_type": "markdown",
      "metadata": {
        "id": "KzvxvULlquGz"
      },
      "source": [
        "4) LEAVE ONE OUT CROSS VALIDATION - from the entire dataset we pickout 1 or 'p' data randomly as test data and remaining all is train data, and we do this for all samples."
      ]
    },
    {
      "cell_type": "code",
      "metadata": {
        "colab": {
          "base_uri": "https://localhost:8080/"
        },
        "id": "kcPk6tLIn4nq",
        "outputId": "2955d022-6e7a-454f-a7a2-ec3790442ad0"
      },
      "source": [
        "from sklearn.model_selection import LeaveOneOut\n",
        "\n",
        "leaveOneOut_validation = LeaveOneOut()\n",
        "\n",
        "results = cross_val_score(dtmodel, X.values, y, cv=leaveOneOut_validation)\n",
        "print(np.mean(results))"
      ],
      "execution_count": 22,
      "outputs": [
        {
          "output_type": "stream",
          "text": [
            "0.759075907590759\n"
          ],
          "name": "stdout"
        }
      ]
    },
    {
      "cell_type": "markdown",
      "metadata": {
        "id": "IOR_VkwBr6oW"
      },
      "source": [
        "5) REPEATED RANDOM TEST TRAIN SPLITS\n",
        "\n",
        "This technique is a hybrid of traditional train-test splitting and the k-fold cross-validation method. In this technique, we create random splits of the data in the training-test set manner and then repeat the process of splitting and evaluating the algorithm multiple times, just like the cross-validation method."
      ]
    },
    {
      "cell_type": "code",
      "metadata": {
        "colab": {
          "base_uri": "https://localhost:8080/"
        },
        "id": "GAMF3bymsN9o",
        "outputId": "e55d17c8-459f-4414-e8b3-591174e09a15"
      },
      "source": [
        "from sklearn.model_selection import ShuffleSplit\n",
        "\n",
        "ssplit=ShuffleSplit(n_splits=10,test_size=0.30)\n",
        "\n",
        "results = cross_val_score(dtmodel, X.values, y, cv=ssplit)\n",
        "print(np.mean(results))"
      ],
      "execution_count": 23,
      "outputs": [
        {
          "output_type": "stream",
          "text": [
            "0.7307692307692308\n"
          ],
          "name": "stdout"
        }
      ]
    },
    {
      "cell_type": "markdown",
      "metadata": {
        "id": "v02q64y7nyjr"
      },
      "source": [
        "**MODEL SELECTION WITH HYPERPARAMETER OPTIMIZATION**"
      ]
    },
    {
      "cell_type": "markdown",
      "metadata": {
        "id": "HDZZixIuQBMe"
      },
      "source": [
        "RANDOMFOREST"
      ]
    },
    {
      "cell_type": "code",
      "metadata": {
        "colab": {
          "base_uri": "https://localhost:8080/"
        },
        "id": "LveLqOnONie8",
        "outputId": "54faede8-35fd-4720-a4e9-de74a3688aaf"
      },
      "source": [
        "# using random forest classifier\n",
        "\n",
        "rfc = RandomForestClassifier(random_state=10) # ravel : from (n,m) => (n,)\n",
        "rfc.fit(X_train, y_train)"
      ],
      "execution_count": null,
      "outputs": [
        {
          "output_type": "execute_result",
          "data": {
            "text/plain": [
              "RandomForestClassifier(bootstrap=True, ccp_alpha=0.0, class_weight=None,\n",
              "                       criterion='gini', max_depth=None, max_features='auto',\n",
              "                       max_leaf_nodes=None, max_samples=None,\n",
              "                       min_impurity_decrease=0.0, min_impurity_split=None,\n",
              "                       min_samples_leaf=1, min_samples_split=2,\n",
              "                       min_weight_fraction_leaf=0.0, n_estimators=100,\n",
              "                       n_jobs=None, oob_score=False, random_state=10, verbose=0,\n",
              "                       warm_start=False)"
            ]
          },
          "metadata": {
            "tags": []
          },
          "execution_count": 54
        }
      ]
    },
    {
      "cell_type": "code",
      "metadata": {
        "colab": {
          "base_uri": "https://localhost:8080/"
        },
        "id": "GrfP6BdJOJau",
        "outputId": "e208661b-c17b-44b3-b275-24fb8e30babd"
      },
      "source": [
        "# random forest classifier accuracy:\n",
        "y_preds = rfc.predict(X_test)\n",
        "print(\"Accuracy : {:.2f}%\".format(accuracy_score(y_test, y_preds)*100))"
      ],
      "execution_count": null,
      "outputs": [
        {
          "output_type": "stream",
          "text": [
            "Accuracy : 78.26%\n"
          ],
          "name": "stdout"
        }
      ]
    },
    {
      "cell_type": "markdown",
      "metadata": {
        "id": "kMcS2DSFQD01"
      },
      "source": [
        "XGBOOST"
      ]
    },
    {
      "cell_type": "code",
      "metadata": {
        "colab": {
          "base_uri": "https://localhost:8080/"
        },
        "id": "8pyxdKufOsBZ",
        "outputId": "23d15709-672c-4d0c-894a-b58b7de1f222"
      },
      "source": [
        "# using xgboost\n",
        "\n",
        "# hyperparameter optimization\n",
        "\n",
        "params = {\n",
        "    \"learning_rate\"    : [0.05, 0.10, 0.15, 0.20, 0.25, 0.30],\n",
        "    \"max_depth\"        : [3, 4, 5, 6, 8, 10, 12, 15],\n",
        "    \"min_child_weight\" : [1, 3, 5, 7],\n",
        "    \"gamma\"            : [0.0, 0.1, 0.2 , 0.3, 0.4],\n",
        "    \"colsample_bytree\" : [0.3, 0.4, 0.5, 0.7]\n",
        "}\n",
        "\n",
        "clf = xgboost.XGBClassifier()\n",
        "\n",
        "random_search = RandomizedSearchCV(\n",
        "    clf, \n",
        "    param_distributions=params, \n",
        "    n_iter=5, \n",
        "    scoring='roc_auc', \n",
        "    n_jobs=-1, \n",
        "    cv=5, \n",
        "    verbose=3\n",
        ")\n",
        "\n",
        "random_search.fit(X_train, y_train)"
      ],
      "execution_count": null,
      "outputs": [
        {
          "output_type": "stream",
          "text": [
            "Fitting 5 folds for each of 5 candidates, totalling 25 fits\n"
          ],
          "name": "stdout"
        },
        {
          "output_type": "stream",
          "text": [
            "[Parallel(n_jobs=-1)]: Using backend LokyBackend with 2 concurrent workers.\n",
            "[Parallel(n_jobs=-1)]: Done  25 out of  25 | elapsed:    0.4s finished\n"
          ],
          "name": "stderr"
        },
        {
          "output_type": "execute_result",
          "data": {
            "text/plain": [
              "RandomizedSearchCV(cv=5, error_score=nan,\n",
              "                   estimator=XGBClassifier(base_score=0.5, booster='gbtree',\n",
              "                                           colsample_bylevel=1,\n",
              "                                           colsample_bynode=1,\n",
              "                                           colsample_bytree=1, gamma=0,\n",
              "                                           learning_rate=0.1, max_delta_step=0,\n",
              "                                           max_depth=3, min_child_weight=1,\n",
              "                                           missing=None, n_estimators=100,\n",
              "                                           n_jobs=1, nthread=None,\n",
              "                                           objective='binary:logistic',\n",
              "                                           random_state=0, reg_alpha=0,\n",
              "                                           reg_lambda=1, sc...\n",
              "                                           verbosity=1),\n",
              "                   iid='deprecated', n_iter=5, n_jobs=-1,\n",
              "                   param_distributions={'colsample_bytree': [0.3, 0.4, 0.5,\n",
              "                                                             0.7],\n",
              "                                        'gamma': [0.0, 0.1, 0.2, 0.3, 0.4],\n",
              "                                        'learning_rate': [0.05, 0.1, 0.15, 0.2,\n",
              "                                                          0.25, 0.3],\n",
              "                                        'max_depth': [3, 4, 5, 6, 8, 10, 12,\n",
              "                                                      15],\n",
              "                                        'min_child_weight': [1, 3, 5, 7]},\n",
              "                   pre_dispatch='2*n_jobs', random_state=None, refit=True,\n",
              "                   return_train_score=False, scoring='roc_auc', verbose=3)"
            ]
          },
          "metadata": {
            "tags": []
          },
          "execution_count": 61
        }
      ]
    },
    {
      "cell_type": "code",
      "metadata": {
        "colab": {
          "base_uri": "https://localhost:8080/"
        },
        "id": "uUfp9_gPOsrT",
        "outputId": "f23362a3-27fd-471d-bf40-3e0f59f7bec6"
      },
      "source": [
        "random_search.best_estimator_"
      ],
      "execution_count": null,
      "outputs": [
        {
          "output_type": "execute_result",
          "data": {
            "text/plain": [
              "XGBClassifier(base_score=0.5, booster='gbtree', colsample_bylevel=1,\n",
              "              colsample_bynode=1, colsample_bytree=0.7, gamma=0.4,\n",
              "              learning_rate=0.15, max_delta_step=0, max_depth=3,\n",
              "              min_child_weight=5, missing=None, n_estimators=100, n_jobs=1,\n",
              "              nthread=None, objective='binary:logistic', random_state=0,\n",
              "              reg_alpha=0, reg_lambda=1, scale_pos_weight=1, seed=None,\n",
              "              silent=None, subsample=1, verbosity=1)"
            ]
          },
          "metadata": {
            "tags": []
          },
          "execution_count": 62
        }
      ]
    },
    {
      "cell_type": "code",
      "metadata": {
        "colab": {
          "base_uri": "https://localhost:8080/"
        },
        "id": "-Q3jiL_1Osmn",
        "outputId": "11ebec1a-781a-4482-9931-6b9ba9f8ef43"
      },
      "source": [
        "classifier = xgboost.XGBClassifier(base_score=0.5, booster='gbtree', colsample_bylevel=1,\n",
        "              colsample_bynode=1, colsample_bytree=0.7, gamma=0.4,\n",
        "              learning_rate=0.15, max_delta_step=0, max_depth=3,\n",
        "              min_child_weight=5, missing=None, n_estimators=100, n_jobs=1,\n",
        "              nthread=None, objective='binary:logistic', random_state=0,\n",
        "              reg_alpha=0, reg_lambda=1, scale_pos_weight=1, seed=None,\n",
        "              silent=None, subsample=1, verbosity=1)\n",
        "\n",
        "classifier.fit(X_train, y_train)"
      ],
      "execution_count": null,
      "outputs": [
        {
          "output_type": "execute_result",
          "data": {
            "text/plain": [
              "XGBClassifier(base_score=0.5, booster='gbtree', colsample_bylevel=1,\n",
              "              colsample_bynode=1, colsample_bytree=0.7, gamma=0.4,\n",
              "              learning_rate=0.15, max_delta_step=0, max_depth=3,\n",
              "              min_child_weight=5, missing=None, n_estimators=100, n_jobs=1,\n",
              "              nthread=None, objective='binary:logistic', random_state=0,\n",
              "              reg_alpha=0, reg_lambda=1, scale_pos_weight=1, seed=None,\n",
              "              silent=None, subsample=1, verbosity=1)"
            ]
          },
          "metadata": {
            "tags": []
          },
          "execution_count": 64
        }
      ]
    },
    {
      "cell_type": "code",
      "metadata": {
        "colab": {
          "base_uri": "https://localhost:8080/"
        },
        "id": "IoNLLnwgOskr",
        "outputId": "319ae598-0d5f-407a-b027-9872f0c80e1b"
      },
      "source": [
        "score = cross_val_score(classifier, X_train, y_train, cv=10)\n",
        "print(score.mean())"
      ],
      "execution_count": null,
      "outputs": [
        {
          "output_type": "stream",
          "text": [
            "0.8250769230769232\n"
          ],
          "name": "stdout"
        }
      ]
    },
    {
      "cell_type": "code",
      "metadata": {
        "colab": {
          "base_uri": "https://localhost:8080/"
        },
        "id": "_PV0MynvPZlr",
        "outputId": "5551c76d-0503-4ffc-e150-dfaec23886a4"
      },
      "source": [
        "# xgboost classifier accuracy:\n",
        "y_preds = classifier.predict(X_test)\n",
        "print(\"Accuracy : {:.2f}%\".format(accuracy_score(y_test, y_preds)*100))"
      ],
      "execution_count": null,
      "outputs": [
        {
          "output_type": "stream",
          "text": [
            "Accuracy : 84.78%\n"
          ],
          "name": "stdout"
        }
      ]
    },
    {
      "cell_type": "code",
      "metadata": {
        "id": "RIiF-cz1PcGZ"
      },
      "source": [
        "# saving trained model\n",
        "filename = '/content/heart-disease.sav'\n",
        "pickle.dump(classifier, open(filename, 'wb'))"
      ],
      "execution_count": null,
      "outputs": []
    }
  ]
}